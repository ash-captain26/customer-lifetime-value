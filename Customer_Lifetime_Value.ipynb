{
 "cells": [
  {
   "cell_type": "markdown",
   "metadata": {
    "id": "j6FO84F2SXAO"
   },
   "source": [
    "### IMPORTING LIBRARIES"
   ]
  },
  {
   "cell_type": "code",
   "execution_count": null,
   "metadata": {
    "id": "uGUubFllSXAQ"
   },
   "outputs": [],
   "source": [
    "import numpy as np\n",
    "import pandas as pd\n",
    "import matplotlib.pyplot as plt\n",
    "import seaborn as sns\n",
    "import warnings\n",
    "warnings.filterwarnings('ignore')"
   ]
  },
  {
   "cell_type": "code",
   "execution_count": null,
   "metadata": {
    "id": "iMc3dLF8SXAR"
   },
   "outputs": [],
   "source": [
    "pd.set_option('display.max_columns',999)"
   ]
  },
  {
   "cell_type": "code",
   "execution_count": null,
   "metadata": {
    "id": "10BPdHmCSXAR"
   },
   "outputs": [],
   "source": [
    "import statsmodels.api as sm"
   ]
  },
  {
   "cell_type": "code",
   "execution_count": null,
   "metadata": {
    "id": "1TQhRuhaSXAR"
   },
   "outputs": [],
   "source": [
    "from sklearn.preprocessing import LabelEncoder\n",
    "le = LabelEncoder()"
   ]
  },
  {
   "cell_type": "code",
   "execution_count": null,
   "metadata": {
    "id": "pDbr4kdmSXAS"
   },
   "outputs": [],
   "source": [
    "from sklearn.model_selection import train_test_split\n",
    "from sklearn.model_selection import GridSearchCV"
   ]
  },
  {
   "cell_type": "code",
   "execution_count": null,
   "metadata": {
    "id": "DT1IQUq5SXAS"
   },
   "outputs": [],
   "source": [
    "from sklearn.linear_model import LinearRegression\n",
    "lr = LinearRegression()"
   ]
  },
  {
   "cell_type": "code",
   "execution_count": null,
   "metadata": {
    "id": "nHZlhB6lSXAS"
   },
   "outputs": [],
   "source": [
    "from sklearn.metrics import r2_score\n",
    "from sklearn.metrics import mean_absolute_error\n",
    "from sklearn.metrics import mean_squared_error\n",
    "from sklearn.metrics import mean_absolute_error"
   ]
  },
  {
   "cell_type": "code",
   "execution_count": null,
   "metadata": {
    "id": "G3jcHWIhSXAS"
   },
   "outputs": [],
   "source": [
    "def mean_absolute_percentage_error(y_true, y_pred): \n",
    "    y_true, y_pred = np.array(y_true), np.array(y_pred)\n",
    "    return np.mean(np.abs((y_true - y_pred) / y_true)) * 100"
   ]
  },
  {
   "cell_type": "code",
   "execution_count": null,
   "metadata": {
    "id": "ydflE8iZSXAS"
   },
   "outputs": [],
   "source": [
    "import statsmodels.stats.api as sms\n",
    "from statsmodels.compat import lzip"
   ]
  },
  {
   "cell_type": "code",
   "execution_count": null,
   "metadata": {
    "id": "kGygvDA1SXAT"
   },
   "outputs": [],
   "source": [
    "from statsmodels.stats import diagnostic as diag\n",
    "from statsmodels.stats.outliers_influence import variance_inflation_factor"
   ]
  },
  {
   "cell_type": "code",
   "execution_count": null,
   "metadata": {
    "id": "Nm-fc1hFSXAT"
   },
   "outputs": [],
   "source": [
    "from scipy.stats import normaltest,f_oneway\n",
    "from scipy.stats import ttest_ind"
   ]
  },
  {
   "cell_type": "code",
   "execution_count": null,
   "metadata": {
    "id": "OREofTXwSXAT"
   },
   "outputs": [],
   "source": [
    "from mlxtend.feature_selection import SequentialFeatureSelector as SFS\n",
    "from mlxtend.plotting import plot_sequential_feature_selection as plot_sfs"
   ]
  },
  {
   "cell_type": "code",
   "execution_count": null,
   "metadata": {
    "id": "eal3llLqSXAT"
   },
   "outputs": [],
   "source": [
    "from sklearn.tree import DecisionTreeRegressor\n",
    "from sklearn.tree import ExtraTreeRegressor"
   ]
  },
  {
   "cell_type": "code",
   "execution_count": null,
   "metadata": {
    "id": "9VrNywx0SXAT"
   },
   "outputs": [],
   "source": [
    "dt = DecisionTreeRegressor()\n",
    "et = ExtraTreeRegressor()"
   ]
  },
  {
   "cell_type": "code",
   "execution_count": null,
   "metadata": {
    "id": "EA_g4yyfSXAT"
   },
   "outputs": [],
   "source": [
    "from sklearn.ensemble import AdaBoostRegressor\n",
    "from sklearn.ensemble import BaggingRegressor\n",
    "from sklearn.ensemble import ExtraTreesRegressor\n",
    "from sklearn.ensemble import GradientBoostingRegressor\n",
    "from sklearn.ensemble import RandomForestRegressor"
   ]
  },
  {
   "cell_type": "code",
   "execution_count": null,
   "metadata": {
    "id": "SqBmhurvSXAT"
   },
   "outputs": [],
   "source": [
    "abr = AdaBoostRegressor()\n",
    "br = BaggingRegressor()\n",
    "etr = ExtraTreesRegressor()\n",
    "gbr = GradientBoostingRegressor()\n",
    "rfr = RandomForestRegressor()"
   ]
  },
  {
   "cell_type": "code",
   "execution_count": null,
   "metadata": {
    "id": "fEj9-pmBSXAT"
   },
   "outputs": [],
   "source": [
    "from sklearn.model_selection import GridSearchCV\n",
    "from sklearn.model_selection import KFold"
   ]
  },
  {
   "cell_type": "markdown",
   "metadata": {
    "id": "ILO4-aisSXAT"
   },
   "source": [
    "### READING THE DATA SET"
   ]
  },
  {
   "cell_type": "code",
   "execution_count": null,
   "metadata": {
    "id": "egXUf4K1SXAT",
    "outputId": "c28a1def-3889-40f5-ca59-4a08b419f4b8"
   },
   "outputs": [
    {
     "data": {
      "text/html": [
       "<div>\n",
       "<style scoped>\n",
       "    .dataframe tbody tr th:only-of-type {\n",
       "        vertical-align: middle;\n",
       "    }\n",
       "\n",
       "    .dataframe tbody tr th {\n",
       "        vertical-align: top;\n",
       "    }\n",
       "\n",
       "    .dataframe thead th {\n",
       "        text-align: right;\n",
       "    }\n",
       "</style>\n",
       "<table border=\"1\" class=\"dataframe\">\n",
       "  <thead>\n",
       "    <tr style=\"text-align: right;\">\n",
       "      <th></th>\n",
       "      <th>Customer</th>\n",
       "      <th>State</th>\n",
       "      <th>Customer Lifetime Value</th>\n",
       "      <th>Response</th>\n",
       "      <th>Coverage</th>\n",
       "      <th>Education</th>\n",
       "      <th>Effective To Date</th>\n",
       "      <th>EmploymentStatus</th>\n",
       "      <th>Gender</th>\n",
       "      <th>Income</th>\n",
       "      <th>Location Code</th>\n",
       "      <th>Marital Status</th>\n",
       "      <th>Monthly Premium Auto</th>\n",
       "      <th>Months Since Last Claim</th>\n",
       "      <th>Months Since Policy Inception</th>\n",
       "      <th>Number of Open Complaints</th>\n",
       "      <th>Number of Policies</th>\n",
       "      <th>Policy Type</th>\n",
       "      <th>Policy</th>\n",
       "      <th>Renew Offer Type</th>\n",
       "      <th>Sales Channel</th>\n",
       "      <th>Total Claim Amount</th>\n",
       "      <th>Vehicle Class</th>\n",
       "      <th>Vehicle Size</th>\n",
       "    </tr>\n",
       "  </thead>\n",
       "  <tbody>\n",
       "    <tr>\n",
       "      <th>0</th>\n",
       "      <td>BU79786</td>\n",
       "      <td>Washington</td>\n",
       "      <td>2763.519279</td>\n",
       "      <td>No</td>\n",
       "      <td>Basic</td>\n",
       "      <td>Bachelor</td>\n",
       "      <td>2/24/2011</td>\n",
       "      <td>Employed</td>\n",
       "      <td>F</td>\n",
       "      <td>56274</td>\n",
       "      <td>Suburban</td>\n",
       "      <td>Married</td>\n",
       "      <td>69</td>\n",
       "      <td>32</td>\n",
       "      <td>5</td>\n",
       "      <td>0</td>\n",
       "      <td>1</td>\n",
       "      <td>Corporate Auto</td>\n",
       "      <td>Corporate L3</td>\n",
       "      <td>Offer1</td>\n",
       "      <td>Agent</td>\n",
       "      <td>384.811147</td>\n",
       "      <td>Two-Door Car</td>\n",
       "      <td>Medsize</td>\n",
       "    </tr>\n",
       "    <tr>\n",
       "      <th>1</th>\n",
       "      <td>QZ44356</td>\n",
       "      <td>Arizona</td>\n",
       "      <td>6979.535903</td>\n",
       "      <td>No</td>\n",
       "      <td>Extended</td>\n",
       "      <td>Bachelor</td>\n",
       "      <td>1/31/2011</td>\n",
       "      <td>Unemployed</td>\n",
       "      <td>F</td>\n",
       "      <td>0</td>\n",
       "      <td>Suburban</td>\n",
       "      <td>Single</td>\n",
       "      <td>94</td>\n",
       "      <td>13</td>\n",
       "      <td>42</td>\n",
       "      <td>0</td>\n",
       "      <td>8</td>\n",
       "      <td>Personal Auto</td>\n",
       "      <td>Personal L3</td>\n",
       "      <td>Offer3</td>\n",
       "      <td>Agent</td>\n",
       "      <td>1131.464935</td>\n",
       "      <td>Four-Door Car</td>\n",
       "      <td>Medsize</td>\n",
       "    </tr>\n",
       "    <tr>\n",
       "      <th>2</th>\n",
       "      <td>AI49188</td>\n",
       "      <td>Nevada</td>\n",
       "      <td>12887.431650</td>\n",
       "      <td>No</td>\n",
       "      <td>Premium</td>\n",
       "      <td>Bachelor</td>\n",
       "      <td>2/19/2011</td>\n",
       "      <td>Employed</td>\n",
       "      <td>F</td>\n",
       "      <td>48767</td>\n",
       "      <td>Suburban</td>\n",
       "      <td>Married</td>\n",
       "      <td>108</td>\n",
       "      <td>18</td>\n",
       "      <td>38</td>\n",
       "      <td>0</td>\n",
       "      <td>2</td>\n",
       "      <td>Personal Auto</td>\n",
       "      <td>Personal L3</td>\n",
       "      <td>Offer1</td>\n",
       "      <td>Agent</td>\n",
       "      <td>566.472247</td>\n",
       "      <td>Two-Door Car</td>\n",
       "      <td>Medsize</td>\n",
       "    </tr>\n",
       "    <tr>\n",
       "      <th>3</th>\n",
       "      <td>WW63253</td>\n",
       "      <td>California</td>\n",
       "      <td>7645.861827</td>\n",
       "      <td>No</td>\n",
       "      <td>Basic</td>\n",
       "      <td>Bachelor</td>\n",
       "      <td>1/20/2011</td>\n",
       "      <td>Unemployed</td>\n",
       "      <td>M</td>\n",
       "      <td>0</td>\n",
       "      <td>Suburban</td>\n",
       "      <td>Married</td>\n",
       "      <td>106</td>\n",
       "      <td>18</td>\n",
       "      <td>65</td>\n",
       "      <td>0</td>\n",
       "      <td>7</td>\n",
       "      <td>Corporate Auto</td>\n",
       "      <td>Corporate L2</td>\n",
       "      <td>Offer1</td>\n",
       "      <td>Call Center</td>\n",
       "      <td>529.881344</td>\n",
       "      <td>SUV</td>\n",
       "      <td>Medsize</td>\n",
       "    </tr>\n",
       "    <tr>\n",
       "      <th>4</th>\n",
       "      <td>HB64268</td>\n",
       "      <td>Washington</td>\n",
       "      <td>2813.692575</td>\n",
       "      <td>No</td>\n",
       "      <td>Basic</td>\n",
       "      <td>Bachelor</td>\n",
       "      <td>2/3/2011</td>\n",
       "      <td>Employed</td>\n",
       "      <td>M</td>\n",
       "      <td>43836</td>\n",
       "      <td>Rural</td>\n",
       "      <td>Single</td>\n",
       "      <td>73</td>\n",
       "      <td>12</td>\n",
       "      <td>44</td>\n",
       "      <td>0</td>\n",
       "      <td>1</td>\n",
       "      <td>Personal Auto</td>\n",
       "      <td>Personal L1</td>\n",
       "      <td>Offer1</td>\n",
       "      <td>Agent</td>\n",
       "      <td>138.130879</td>\n",
       "      <td>Four-Door Car</td>\n",
       "      <td>Medsize</td>\n",
       "    </tr>\n",
       "  </tbody>\n",
       "</table>\n",
       "</div>"
      ],
      "text/plain": [
       "  Customer       State  Customer Lifetime Value Response  Coverage Education  \\\n",
       "0  BU79786  Washington              2763.519279       No     Basic  Bachelor   \n",
       "1  QZ44356     Arizona              6979.535903       No  Extended  Bachelor   \n",
       "2  AI49188      Nevada             12887.431650       No   Premium  Bachelor   \n",
       "3  WW63253  California              7645.861827       No     Basic  Bachelor   \n",
       "4  HB64268  Washington              2813.692575       No     Basic  Bachelor   \n",
       "\n",
       "  Effective To Date EmploymentStatus Gender  Income Location Code  \\\n",
       "0         2/24/2011         Employed      F   56274      Suburban   \n",
       "1         1/31/2011       Unemployed      F       0      Suburban   \n",
       "2         2/19/2011         Employed      F   48767      Suburban   \n",
       "3         1/20/2011       Unemployed      M       0      Suburban   \n",
       "4          2/3/2011         Employed      M   43836         Rural   \n",
       "\n",
       "  Marital Status  Monthly Premium Auto  Months Since Last Claim  \\\n",
       "0        Married                    69                       32   \n",
       "1         Single                    94                       13   \n",
       "2        Married                   108                       18   \n",
       "3        Married                   106                       18   \n",
       "4         Single                    73                       12   \n",
       "\n",
       "   Months Since Policy Inception  Number of Open Complaints  \\\n",
       "0                              5                          0   \n",
       "1                             42                          0   \n",
       "2                             38                          0   \n",
       "3                             65                          0   \n",
       "4                             44                          0   \n",
       "\n",
       "   Number of Policies     Policy Type        Policy Renew Offer Type  \\\n",
       "0                   1  Corporate Auto  Corporate L3           Offer1   \n",
       "1                   8   Personal Auto   Personal L3           Offer3   \n",
       "2                   2   Personal Auto   Personal L3           Offer1   \n",
       "3                   7  Corporate Auto  Corporate L2           Offer1   \n",
       "4                   1   Personal Auto   Personal L1           Offer1   \n",
       "\n",
       "  Sales Channel  Total Claim Amount  Vehicle Class Vehicle Size  \n",
       "0         Agent          384.811147   Two-Door Car      Medsize  \n",
       "1         Agent         1131.464935  Four-Door Car      Medsize  \n",
       "2         Agent          566.472247   Two-Door Car      Medsize  \n",
       "3   Call Center          529.881344            SUV      Medsize  \n",
       "4         Agent          138.130879  Four-Door Car      Medsize  "
      ]
     },
     "execution_count": 18,
     "metadata": {},
     "output_type": "execute_result"
    }
   ],
   "source": [
    "data=pd.read_csv('Insurance_Marketing-Customer-Value-Analysis.csv')\n",
    "data.head()"
   ]
  },
  {
   "cell_type": "markdown",
   "metadata": {
    "id": "CcOz8IKGSXAU"
   },
   "source": [
    "### NULL VALUE'S CHECK"
   ]
  },
  {
   "cell_type": "code",
   "execution_count": null,
   "metadata": {
    "id": "exeHpNL5SXAU",
    "outputId": "24ca6ab7-9715-431b-821d-59560635731f"
   },
   "outputs": [
    {
     "data": {
      "text/plain": [
       "Customer                         0\n",
       "State                            0\n",
       "Customer Lifetime Value          0\n",
       "Response                         0\n",
       "Coverage                         0\n",
       "Education                        0\n",
       "Effective To Date                0\n",
       "EmploymentStatus                 0\n",
       "Gender                           0\n",
       "Income                           0\n",
       "Location Code                    0\n",
       "Marital Status                   0\n",
       "Monthly Premium Auto             0\n",
       "Months Since Last Claim          0\n",
       "Months Since Policy Inception    0\n",
       "Number of Open Complaints        0\n",
       "Number of Policies               0\n",
       "Policy Type                      0\n",
       "Policy                           0\n",
       "Renew Offer Type                 0\n",
       "Sales Channel                    0\n",
       "Total Claim Amount               0\n",
       "Vehicle Class                    0\n",
       "Vehicle Size                     0\n",
       "dtype: int64"
      ]
     },
     "execution_count": 19,
     "metadata": {},
     "output_type": "execute_result"
    }
   ],
   "source": [
    "data.isnull().sum()"
   ]
  },
  {
   "cell_type": "markdown",
   "metadata": {
    "id": "yHyAYyrqSXAU"
   },
   "source": [
    "### MEASURES OF CENTRAL TENDENCY"
   ]
  },
  {
   "cell_type": "code",
   "execution_count": null,
   "metadata": {
    "id": "oPEQqJEESXAU",
    "outputId": "c4139f07-92f7-4b27-e75a-6f67f9b8d20b"
   },
   "outputs": [
    {
     "data": {
      "text/html": [
       "<div>\n",
       "<style scoped>\n",
       "    .dataframe tbody tr th:only-of-type {\n",
       "        vertical-align: middle;\n",
       "    }\n",
       "\n",
       "    .dataframe tbody tr th {\n",
       "        vertical-align: top;\n",
       "    }\n",
       "\n",
       "    .dataframe thead th {\n",
       "        text-align: right;\n",
       "    }\n",
       "</style>\n",
       "<table border=\"1\" class=\"dataframe\">\n",
       "  <thead>\n",
       "    <tr style=\"text-align: right;\">\n",
       "      <th></th>\n",
       "      <th>Customer Lifetime Value</th>\n",
       "      <th>Income</th>\n",
       "      <th>Monthly Premium Auto</th>\n",
       "      <th>Total Claim Amount</th>\n",
       "    </tr>\n",
       "  </thead>\n",
       "  <tbody>\n",
       "    <tr>\n",
       "      <th>count</th>\n",
       "      <td>9134.000000</td>\n",
       "      <td>9134.000000</td>\n",
       "      <td>9134.000000</td>\n",
       "      <td>9134.000000</td>\n",
       "    </tr>\n",
       "    <tr>\n",
       "      <th>mean</th>\n",
       "      <td>8004.940475</td>\n",
       "      <td>37657.380009</td>\n",
       "      <td>93.219291</td>\n",
       "      <td>434.088794</td>\n",
       "    </tr>\n",
       "    <tr>\n",
       "      <th>std</th>\n",
       "      <td>6870.967608</td>\n",
       "      <td>30379.904734</td>\n",
       "      <td>34.407967</td>\n",
       "      <td>290.500092</td>\n",
       "    </tr>\n",
       "    <tr>\n",
       "      <th>min</th>\n",
       "      <td>1898.007675</td>\n",
       "      <td>0.000000</td>\n",
       "      <td>61.000000</td>\n",
       "      <td>0.099007</td>\n",
       "    </tr>\n",
       "    <tr>\n",
       "      <th>25%</th>\n",
       "      <td>3994.251794</td>\n",
       "      <td>0.000000</td>\n",
       "      <td>68.000000</td>\n",
       "      <td>272.258244</td>\n",
       "    </tr>\n",
       "    <tr>\n",
       "      <th>50%</th>\n",
       "      <td>5780.182197</td>\n",
       "      <td>33889.500000</td>\n",
       "      <td>83.000000</td>\n",
       "      <td>383.945434</td>\n",
       "    </tr>\n",
       "    <tr>\n",
       "      <th>75%</th>\n",
       "      <td>8962.167041</td>\n",
       "      <td>62320.000000</td>\n",
       "      <td>109.000000</td>\n",
       "      <td>547.514839</td>\n",
       "    </tr>\n",
       "    <tr>\n",
       "      <th>max</th>\n",
       "      <td>83325.381190</td>\n",
       "      <td>99981.000000</td>\n",
       "      <td>298.000000</td>\n",
       "      <td>2893.239678</td>\n",
       "    </tr>\n",
       "  </tbody>\n",
       "</table>\n",
       "</div>"
      ],
      "text/plain": [
       "       Customer Lifetime Value        Income  Monthly Premium Auto  \\\n",
       "count              9134.000000   9134.000000           9134.000000   \n",
       "mean               8004.940475  37657.380009             93.219291   \n",
       "std                6870.967608  30379.904734             34.407967   \n",
       "min                1898.007675      0.000000             61.000000   \n",
       "25%                3994.251794      0.000000             68.000000   \n",
       "50%                5780.182197  33889.500000             83.000000   \n",
       "75%                8962.167041  62320.000000            109.000000   \n",
       "max               83325.381190  99981.000000            298.000000   \n",
       "\n",
       "       Total Claim Amount  \n",
       "count         9134.000000  \n",
       "mean           434.088794  \n",
       "std            290.500092  \n",
       "min              0.099007  \n",
       "25%            272.258244  \n",
       "50%            383.945434  \n",
       "75%            547.514839  \n",
       "max           2893.239678  "
      ]
     },
     "execution_count": 20,
     "metadata": {},
     "output_type": "execute_result"
    }
   ],
   "source": [
    "data[['Customer Lifetime Value','Income','Monthly Premium Auto','Total Claim Amount']].describe()"
   ]
  },
  {
   "cell_type": "markdown",
   "metadata": {
    "id": "-t39cPM9SXAU"
   },
   "source": [
    "### SHAPE OFTHE DATA SET"
   ]
  },
  {
   "cell_type": "code",
   "execution_count": null,
   "metadata": {
    "id": "u79_GlSHSXAU",
    "outputId": "ba1e4fa7-36e2-42aa-a5dc-8111b4b8247b"
   },
   "outputs": [
    {
     "data": {
      "text/plain": [
       "(9134, 24)"
      ]
     },
     "execution_count": 21,
     "metadata": {},
     "output_type": "execute_result"
    }
   ],
   "source": [
    "data.shape"
   ]
  },
  {
   "cell_type": "markdown",
   "metadata": {
    "id": "D6XjJ3L3SXAU"
   },
   "source": [
    "### DATA VISUALIZATION AND INFERENCES\n",
    "\n",
    "#### UNIVARIATE ANALYSIS"
   ]
  },
  {
   "cell_type": "code",
   "execution_count": null,
   "metadata": {
    "id": "YmiSeCE7SXAV",
    "outputId": "9a6232aa-16a9-408e-ecbe-cd463f38c49c"
   },
   "outputs": [
    {
     "data": {
      "image/png": "[encoded data removed]",
      "text/plain": [
       "<Figure size 432x288 with 1 Axes>"
      ]
     },
     "metadata": {
      "needs_background": "light"
     },
     "output_type": "display_data"
    }
   ],
   "source": [
    "sns.boxplot(data['Income'])\n",
    "plt.show()"
   ]
  },
  {
   "cell_type": "code",
   "execution_count": null,
   "metadata": {
    "id": "HGjbOQ_mSXAV",
    "outputId": "ae9cb1bb-92a6-467f-924d-bde5d96fd9e9"
   },
   "outputs": [
    {
     "data": {
      "image/png": "[encoded data removed]",
      "text/plain": [
       "<Figure size 432x288 with 1 Axes>"
      ]
     },
     "metadata": {
      "needs_background": "light"
     },
     "output_type": "display_data"
    }
   ],
   "source": [
    "sns.boxplot(data['Monthly Premium Auto'])\n",
    "plt.show()"
   ]
  },
  {
   "cell_type": "code",
   "execution_count": null,
   "metadata": {
    "id": "E3BtehaiSXAV",
    "outputId": "2613b5da-a15f-4831-80be-bd99746fcd59"
   },
   "outputs": [
    {
     "data": {
      "image/png": "[encoded data removed]",
      "text/plain": [
       "<Figure size 432x288 with 1 Axes>"
      ]
     },
     "metadata": {
      "needs_background": "light"
     },
     "output_type": "display_data"
    }
   ],
   "source": [
    "sns.boxplot(data['Total Claim Amount'])\n",
    "plt.show()"
   ]
  },
  {
   "cell_type": "markdown",
   "metadata": {
    "id": "Xl6AhaFASXAV"
   },
   "source": [
    "- As we can see that there are outliers in the total claim amount and also in monthly premium auto , usually we remove the outliers for a better model.\n",
    "- since our dataset is related to insurance and banking industry, we must be accept the outliers,as they can be our potential customers.\n",
    "- And there are no outliers in the income.\n",
    "- Conclusion: No outlier treatment required."
   ]
  },
  {
   "cell_type": "code",
   "execution_count": null,
   "metadata": {
    "id": "w3wJ6js5SXAV",
    "outputId": "5ff2a2fb-efb3-461f-f35b-2c8046b6792d"
   },
   "outputs": [
    {
     "data": {
      "image/png": "[encoded data removed]",
      "text/plain": [
       "<Figure size 432x288 with 1 Axes>"
      ]
     },
     "metadata": {
      "needs_background": "light"
     },
     "output_type": "display_data"
    }
   ],
   "source": [
    "sns.distplot(data['Income'])\n",
    "plt.show()"
   ]
  },
  {
   "cell_type": "code",
   "execution_count": null,
   "metadata": {
    "id": "eEAQ9wrTSXAV",
    "outputId": "4e397956-df17-4fdc-e48c-e0375f98b64d"
   },
   "outputs": [
    {
     "data": {
      "image/png": "[encoded data removed]",
      "text/plain": [
       "<Figure size 432x288 with 1 Axes>"
      ]
     },
     "metadata": {
      "needs_background": "light"
     },
     "output_type": "display_data"
    }
   ],
   "source": [
    "sns.distplot(data['Monthly Premium Auto'])\n",
    "plt.show()"
   ]
  },
  {
   "cell_type": "code",
   "execution_count": null,
   "metadata": {
    "id": "yRwvOWH_SXAV",
    "outputId": "599285d6-af39-48fb-c099-2546d0a2124a"
   },
   "outputs": [
    {
     "data": {
      "image/png": "[encoded data removed]",
      "text/plain": [
       "<Figure size 432x288 with 1 Axes>"
      ]
     },
     "metadata": {
      "needs_background": "light"
     },
     "output_type": "display_data"
    }
   ],
   "source": [
    "sns.distplot(data['Total Claim Amount'])\n",
    "plt.show()"
   ]
  },
  {
   "cell_type": "markdown",
   "metadata": {
    "id": "DhJiihXrSXAV"
   },
   "source": [
    "As we can see that none of the continuous variables are normally distributed.\n",
    "So in our case , we want to make the distributions normal, we can apply some transformations to the data and see if we can achieve a normally distributed variable."
   ]
  },
  {
   "cell_type": "markdown",
   "metadata": {
    "id": "O7P-oLxNSXAW"
   },
   "source": [
    "#### TRANSFORMATION OF THE NUMERICAL VARIABLES"
   ]
  },
  {
   "cell_type": "code",
   "execution_count": null,
   "metadata": {
    "id": "aw7V0cFiSXAW",
    "outputId": "a4c858c2-d7d7-4176-eda1-335c724fb4cb"
   },
   "outputs": [
    {
     "data": {
      "image/png": "[encoded data removed]",
      "text/plain": [
       "<Figure size 432x288 with 1 Axes>"
      ]
     },
     "metadata": {
      "needs_background": "light"
     },
     "output_type": "display_data"
    }
   ],
   "source": [
    "sns.distplot(data['Income']**2)\n",
    "plt.show()"
   ]
  },
  {
   "cell_type": "code",
   "execution_count": null,
   "metadata": {
    "id": "nMn9pV9lSXAW",
    "outputId": "68211e90-0da8-44cc-decf-3c52d02a0ea9"
   },
   "outputs": [
    {
     "data": {
      "image/png": "[encoded data removed]",
      "text/plain": [
       "<Figure size 432x288 with 1 Axes>"
      ]
     },
     "metadata": {
      "needs_background": "light"
     },
     "output_type": "display_data"
    }
   ],
   "source": [
    "sns.distplot(data['Income']**(1/2))\n",
    "plt.show()"
   ]
  },
  {
   "cell_type": "markdown",
   "metadata": {
    "id": "HRMBtNWeSXAX"
   },
   "source": [
    "As we can see that while we are trying to transform the data to make it normal,rather the distribution is getting skewed, or is having multiple peaks which again is a problem to our model, hence we just stick with the same distribution of the variable."
   ]
  },
  {
   "cell_type": "code",
   "execution_count": null,
   "metadata": {
    "id": "qs26Q0xNSXAX",
    "outputId": "0eea8b67-aa6b-419a-a85e-f8d1aee622e1"
   },
   "outputs": [
    {
     "data": {
      "image/png": "[encoded data removed]",
      "text/plain": [
       "<Figure size 432x288 with 1 Axes>"
      ]
     },
     "metadata": {
      "needs_background": "light"
     },
     "output_type": "display_data"
    }
   ],
   "source": [
    "sns.distplot(data['Monthly Premium Auto']**(2))\n",
    "plt.show()"
   ]
  },
  {
   "cell_type": "markdown",
   "metadata": {
    "id": "CGGAZE_8SXAX"
   },
   "source": [
    "The monthly premium auto has multiple peaks,so to remove those peaks we can apply any of the power transformation (SQUARE / CUBE) but as we can see that after the square transformation the data is getting heavily skewed, so we stick with the actual distribution again."
   ]
  },
  {
   "cell_type": "code",
   "execution_count": null,
   "metadata": {
    "id": "w0dbQB_qSXAX",
    "outputId": "8ebab775-d69f-4a80-c948-8e1f06a9be37"
   },
   "outputs": [
    {
     "data": {
      "image/png": "[encoded data removed]",
      "text/plain": [
       "<Figure size 432x288 with 1 Axes>"
      ]
     },
     "metadata": {
      "needs_background": "light"
     },
     "output_type": "display_data"
    }
   ],
   "source": [
    "sns.distplot(data['Total Claim Amount']**2)\n",
    "plt.show()"
   ]
  },
  {
   "cell_type": "markdown",
   "metadata": {
    "id": "m8x_XiCkSXAX"
   },
   "source": [
    "Again for the total claim amount after applying the transformation's the data is getting skewed, and hence we stick to the actual distibution of the data.\n",
    "\n",
    "Conclusion: No matter what power transformation we are applying to the numerical variables, it is still not getting normally distributed, and moreover the data is getting skewed, so rather we will just stick with the actual distribution "
   ]
  },
  {
   "cell_type": "code",
   "execution_count": null,
   "metadata": {
    "id": "y_bai3ukSXAX",
    "outputId": "e23da48f-ab5c-4b6f-f2b6-430e2ec2cea2"
   },
   "outputs": [
    {
     "data": {
      "image/png": "[encoded data removed]",
      "text/plain": [
       "<Figure size 432x288 with 1 Axes>"
      ]
     },
     "metadata": {
      "needs_background": "light"
     },
     "output_type": "display_data"
    }
   ],
   "source": [
    "sns.barplot(x = 'Location Code',y='Customer Lifetime Value',data = data)\n",
    "plt.show()"
   ]
  },
  {
   "cell_type": "markdown",
   "metadata": {
    "id": "p9nk_eHxSXAX"
   },
   "source": [
    "The average customer lifetime value of the customer who stay in different location code is the same so while creating the model we can drop this."
   ]
  },
  {
   "cell_type": "code",
   "execution_count": null,
   "metadata": {
    "id": "WKYDv3k2SXAX",
    "outputId": "b1cfd4ce-f649-4037-fe7c-4364dc33fa2b"
   },
   "outputs": [
    {
     "data": {
      "image/png": "[encoded data removed]",
      "text/plain": [
       "<Figure size 432x288 with 1 Axes>"
      ]
     },
     "metadata": {
      "needs_background": "light"
     },
     "output_type": "display_data"
    }
   ],
   "source": [
    "sns.barplot(x = 'State',y='Customer Lifetime Value',data = data)\n",
    "plt.show()"
   ]
  },
  {
   "cell_type": "markdown",
   "metadata": {
    "id": "fbOm7lzgSXAX"
   },
   "source": [
    "The average customer lifetime value of the customer who stay in different state is same and we can drop this also"
   ]
  },
  {
   "cell_type": "code",
   "execution_count": null,
   "metadata": {
    "id": "1voHH9yFSXAX",
    "outputId": "500875cc-75d7-4d49-8c60-41959bd93543"
   },
   "outputs": [
    {
     "data": {
      "image/png": "[encoded data removed]",
      "text/plain": [
       "<Figure size 432x288 with 1 Axes>"
      ]
     },
     "metadata": {
      "needs_background": "light"
     },
     "output_type": "display_data"
    }
   ],
   "source": [
    "sns.barplot(x = 'Response',y='Customer Lifetime Value',data = data)\n",
    "plt.show()"
   ]
  },
  {
   "cell_type": "markdown",
   "metadata": {
    "id": "HjD4XiM0SXAX"
   },
   "source": [
    "The average customer lifetime value for both of them is same."
   ]
  },
  {
   "cell_type": "code",
   "execution_count": null,
   "metadata": {
    "id": "pP7-oR-iSXAX",
    "outputId": "9630cb37-bf39-4667-f1af-2c1d61ba6448"
   },
   "outputs": [
    {
     "data": {
      "image/png": "[encoded data removed]",
      "text/plain": [
       "<Figure size 432x288 with 1 Axes>"
      ]
     },
     "metadata": {
      "needs_background": "light"
     },
     "output_type": "display_data"
    }
   ],
   "source": [
    "sns.barplot(x = 'Gender',y='Customer Lifetime Value',data = data)\n",
    "plt.show()"
   ]
  },
  {
   "cell_type": "markdown",
   "metadata": {
    "id": "X1ybAsoSSXAY"
   },
   "source": [
    "We can see that the average customer lifetime value is same for both male and female."
   ]
  },
  {
   "cell_type": "code",
   "execution_count": null,
   "metadata": {
    "id": "oIzK8kkMSXAY",
    "outputId": "30457bfd-cf67-4f9a-d4fd-a79e3593890d"
   },
   "outputs": [
    {
     "data": {
      "image/png": "[encoded data removed]",
      "text/plain": [
       "<Figure size 432x288 with 1 Axes>"
      ]
     },
     "metadata": {
      "needs_background": "light"
     },
     "output_type": "display_data"
    }
   ],
   "source": [
    "sns.barplot(x = 'Education',y='Customer Lifetime Value',data = data)\n",
    "plt.xticks(rotation=45)\n",
    "plt.show()"
   ]
  },
  {
   "cell_type": "markdown",
   "metadata": {
    "id": "leHXkmGvSXAY"
   },
   "source": [
    "We can also see that education is not a significant feature for assessing the lifetime value of the customer."
   ]
  },
  {
   "cell_type": "code",
   "execution_count": null,
   "metadata": {
    "id": "Wv7QbtRhSXAY",
    "outputId": "f017361d-21ff-4df0-af4b-ad326b330c2b"
   },
   "outputs": [
    {
     "data": {
      "image/png": "[encoded data removed]",
      "text/plain": [
       "<Figure size 432x288 with 1 Axes>"
      ]
     },
     "metadata": {
      "needs_background": "light"
     },
     "output_type": "display_data"
    }
   ],
   "source": [
    "sns.barplot(x = 'Number of Policies',y='Customer Lifetime Value',data = data)\n",
    "plt.show()"
   ]
  },
  {
   "cell_type": "markdown",
   "metadata": {
    "id": "0TnhPxofSXAY"
   },
   "source": [
    "We can see a pattern here, customers who have taken only 1 policy have lower customer lifetime value, and customers who have taken 3 or greater show a similar trend, so we can combine all of them into one bin, and we can also see that the customers who have taken 2 policies have very high customer lifetime value comparitively."
   ]
  },
  {
   "cell_type": "code",
   "execution_count": null,
   "metadata": {
    "id": "XDGFRiGUSXAY",
    "outputId": "2b404e41-dd33-4f1b-cc63-f65ce265d0e9"
   },
   "outputs": [
    {
     "data": {
      "image/png": "[encoded data removed]",
      "text/plain": [
       "<Figure size 432x288 with 1 Axes>"
      ]
     },
     "metadata": {
      "needs_background": "light"
     },
     "output_type": "display_data"
    }
   ],
   "source": [
    "sns.barplot(x = 'Policy Type',y='Customer Lifetime Value',data = data)\n",
    "plt.xticks(rotation = 90)\n",
    "plt.show()"
   ]
  },
  {
   "cell_type": "markdown",
   "metadata": {
    "id": "GQUmguWNSXAY"
   },
   "source": [
    "There isn't much difference in the customer lifetime value w.r.t what policy type he has taken, all we need is how much revenue a customer can bring to the company, so it doesnt matter what type of policy he/she has chosen."
   ]
  },
  {
   "cell_type": "code",
   "execution_count": null,
   "metadata": {
    "id": "oxkhDcmdSXAY",
    "outputId": "2afa7e03-8b21-479c-cff7-cace5295610d"
   },
   "outputs": [
    {
     "data": {
      "image/png": "[encoded data removed]",
      "text/plain": [
       "<Figure size 432x288 with 1 Axes>"
      ]
     },
     "metadata": {
      "needs_background": "light"
     },
     "output_type": "display_data"
    }
   ],
   "source": [
    "sns.barplot(x = 'Coverage',y='Customer Lifetime Value',data = data)\n",
    "plt.show()"
   ]
  },
  {
   "cell_type": "markdown",
   "metadata": {
    "id": "fL9xSWovSXAY"
   },
   "source": [
    "Customer Lifetime Value is different for different types of coverage."
   ]
  },
  {
   "cell_type": "code",
   "execution_count": null,
   "metadata": {
    "id": "dQcVMBBRSXAY",
    "outputId": "194bc795-1ab0-40ff-c691-29f18304dfa2"
   },
   "outputs": [
    {
     "data": {
      "image/png": "[encoded data removed]",
      "text/plain": [
       "<Figure size 432x288 with 1 Axes>"
      ]
     },
     "metadata": {
      "needs_background": "light"
     },
     "output_type": "display_data"
    }
   ],
   "source": [
    "sns.barplot(x = 'Number of Open Complaints',y='Customer Lifetime Value',data = data)\n",
    "plt.show()"
   ]
  },
  {
   "cell_type": "markdown",
   "metadata": {
    "id": "WvtV2yv8SXAY"
   },
   "source": [
    "Number of open complaints also show kind of similar trend, where people who have complaints 2 or lesser have a similar pattern but where as >3 do not show any pattern we will have to do statistical test to understand if this feature is really significant or not"
   ]
  },
  {
   "cell_type": "code",
   "execution_count": null,
   "metadata": {
    "id": "8UZ2_dhgSXAY",
    "outputId": "4676b5a9-1db9-4adf-9f64-cf44f004958b"
   },
   "outputs": [
    {
     "data": {
      "image/png": "[encoded data removed]",
      "text/plain": [
       "<Figure size 540x180 with 3 Axes>"
      ]
     },
     "metadata": {
      "needs_background": "light"
     },
     "output_type": "display_data"
    }
   ],
   "source": [
    "sns.pairplot(y_vars='Customer Lifetime Value',x_vars=['Income','Monthly Premium Auto','Total Claim Amount'],data = data)\n",
    "plt.show()"
   ]
  },
  {
   "cell_type": "markdown",
   "metadata": {
    "id": "UvaMBqfnSXAY"
   },
   "source": [
    "\n",
    "We can clearly see that there is a linear relationship between Customer lifetime value and monthly premium auto, but we do not see any relationship between income and the total claim amount."
   ]
  },
  {
   "cell_type": "code",
   "execution_count": null,
   "metadata": {
    "id": "AQbfhkiASXAY",
    "outputId": "77e6c095-9605-4c1b-80c3-f373a541a367"
   },
   "outputs": [
    {
     "data": {
      "image/png": "[encoded data removed]",
      "text/plain": [
       "<Figure size 432x288 with 2 Axes>"
      ]
     },
     "metadata": {
      "needs_background": "light"
     },
     "output_type": "display_data"
    }
   ],
   "source": [
    "sns.heatmap(data[['Customer Lifetime Value','Monthly Premium Auto','Income','Total Claim Amount']].corr(),annot = True)\n",
    "plt.show()"
   ]
  },
  {
   "cell_type": "markdown",
   "metadata": {
    "id": "3M6xMO80SXAY"
   },
   "source": [
    "\n",
    "And we can clearly see in the correlation map, that customer lifetime value has a better correlation with monthly premium auto and acceptable co relation with total claim amount, but it show's no relationship with income, so again with all the visualization's we can come to the conclusion that we can dis regard the INCOME feature."
   ]
  },
  {
   "cell_type": "markdown",
   "metadata": {
    "id": "8WEtfiAGSXAZ"
   },
   "source": [
    "### BASE MODEL USING OLS\n",
    "\n",
    "##### Using label encoding just for the purpose of looking at the base model, encoding technique's may change furthur(one-hot encoding is used)"
   ]
  },
  {
   "cell_type": "code",
   "execution_count": null,
   "metadata": {
    "id": "f0NnEnlwSXAZ"
   },
   "outputs": [],
   "source": [
    "cols = data.select_dtypes(object).columns\n",
    "for i in cols:\n",
    "    data[i] = le.fit_transform(data[i])"
   ]
  },
  {
   "cell_type": "code",
   "execution_count": null,
   "metadata": {
    "id": "Ye4ZY3E2SXAZ",
    "outputId": "fa4511d9-18a0-4b1f-cdb0-c0cb2df8d47d"
   },
   "outputs": [
    {
     "data": {
      "text/plain": [
       "LinearRegression(copy_X=True, fit_intercept=True, n_jobs=None, normalize=False)"
      ]
     },
     "execution_count": 44,
     "metadata": {},
     "output_type": "execute_result"
    }
   ],
   "source": [
    "X = data.drop('Customer Lifetime Value',axis=1)\n",
    "y = data['Customer Lifetime Value']\n",
    "from sklearn.linear_model import LinearRegression\n",
    "\n",
    "lin_reg = LinearRegression()\n",
    "lin_reg.fit(X, y)"
   ]
  },
  {
   "cell_type": "code",
   "execution_count": null,
   "metadata": {
    "id": "B-yPDtAqSXAZ",
    "outputId": "fd5c52eb-a17d-4d3d-f4b0-c2f56fe85e8f"
   },
   "outputs": [
    {
     "name": "stdout",
     "output_type": "stream",
     "text": [
      "(6393, 23)\n",
      "(2741, 23)\n",
      "(2741,)\n",
      "(6393,)\n"
     ]
    }
   ],
   "source": [
    "from sklearn.model_selection import train_test_split\n",
    "# train data - 70% and test data - 30%\n",
    "X_train, X_test, y_train, y_test = train_test_split(X,y, test_size = 0.30, random_state = 42)\n",
    "print(X_train.shape)\n",
    "print(X_test.shape)\n",
    "print(y_test.shape)\n",
    "print(y_train.shape)"
   ]
  },
  {
   "cell_type": "code",
   "execution_count": null,
   "metadata": {
    "id": "oUxMdRWpSXAZ",
    "outputId": "b46a6fc1-2b49-4ed4-9856-c764e24ed65d"
   },
   "outputs": [
    {
     "name": "stdout",
     "output_type": "stream",
     "text": [
      "Coefficients: [-6.53047225e-02 -3.59247697e+01 -7.59207272e+02 -2.18491598e+02\n",
      "  1.52093317e+02 -4.43441182e+00 -1.00947774e+02 -2.35768901e+01\n",
      "  4.12753853e-03 -3.02804230e+01 -2.22636108e+02  7.78574107e+01\n",
      "  8.28124733e+00  2.50392872e+00 -2.91566716e+02  6.14992641e+01\n",
      "  1.63149422e+02  4.20724693e+01 -3.90118789e+02  9.26511745e+01\n",
      " -2.43179192e-02  5.50268662e+01  1.12140039e+02]\n",
      "Intercept: 931.741463758226\n",
      "R^2 score: 0.16465342044170292\n",
      "R^2 score for train: 0.168971654854021\n",
      "R^2 score for test: 0.15581417034347667\n"
     ]
    }
   ],
   "source": [
    "lin_reg = LinearRegression()\n",
    "model = lin_reg.fit(X_train,y_train)\n",
    "print(f'Coefficients: {lin_reg.coef_}')\n",
    "print(f'Intercept: {lin_reg.intercept_}')\n",
    "print(f'R^2 score: {lin_reg.score(X, y)}')\n",
    "print(f'R^2 score for train: {lin_reg.score(X_train, y_train)}')\n",
    "print(f'R^2 score for test: {lin_reg.score(X_test, y_test)}')"
   ]
  },
  {
   "cell_type": "code",
   "execution_count": null,
   "metadata": {
    "id": "l2NwtGynSXAZ",
    "outputId": "98982f02-935e-45d2-c85f-45a57c8e06c2"
   },
   "outputs": [
    {
     "data": {
      "text/html": [
       "<table class=\"simpletable\">\n",
       "<caption>OLS Regression Results</caption>\n",
       "<tr>\n",
       "  <th>Dep. Variable:</th>    <td>Customer Lifetime Value</td> <th>  R-squared:         </th> <td>   0.166</td> \n",
       "</tr>\n",
       "<tr>\n",
       "  <th>Model:</th>                      <td>OLS</td>           <th>  Adj. R-squared:    </th> <td>   0.164</td> \n",
       "</tr>\n",
       "<tr>\n",
       "  <th>Method:</th>                <td>Least Squares</td>      <th>  F-statistic:       </th> <td>   78.97</td> \n",
       "</tr>\n",
       "<tr>\n",
       "  <th>Date:</th>                <td>Sun, 05 Jan 2020</td>     <th>  Prob (F-statistic):</th>  <td>  0.00</td>  \n",
       "</tr>\n",
       "<tr>\n",
       "  <th>Time:</th>                    <td>21:29:50</td>         <th>  Log-Likelihood:    </th> <td> -92829.</td> \n",
       "</tr>\n",
       "<tr>\n",
       "  <th>No. Observations:</th>         <td>  9134</td>          <th>  AIC:               </th> <td>1.857e+05</td>\n",
       "</tr>\n",
       "<tr>\n",
       "  <th>Df Residuals:</th>             <td>  9110</td>          <th>  BIC:               </th> <td>1.859e+05</td>\n",
       "</tr>\n",
       "<tr>\n",
       "  <th>Df Model:</th>                 <td>    23</td>          <th>                     </th>     <td> </td>    \n",
       "</tr>\n",
       "<tr>\n",
       "  <th>Covariance Type:</th>         <td>nonrobust</td>        <th>                     </th>     <td> </td>    \n",
       "</tr>\n",
       "</table>\n",
       "<table class=\"simpletable\">\n",
       "<tr>\n",
       "                <td></td>                   <th>coef</th>     <th>std err</th>      <th>t</th>      <th>P>|t|</th>  <th>[0.025</th>    <th>0.975]</th>  \n",
       "</tr>\n",
       "<tr>\n",
       "  <th>const</th>                         <td> 1071.0909</td> <td>  499.588</td> <td>    2.144</td> <td> 0.032</td> <td>   91.786</td> <td> 2050.396</td>\n",
       "</tr>\n",
       "<tr>\n",
       "  <th>Customer</th>                      <td>   -0.0768</td> <td>    0.025</td> <td>   -3.078</td> <td> 0.002</td> <td>   -0.126</td> <td>   -0.028</td>\n",
       "</tr>\n",
       "<tr>\n",
       "  <th>State</th>                         <td>   30.1424</td> <td>   51.092</td> <td>    0.590</td> <td> 0.555</td> <td>  -70.010</td> <td>  130.294</td>\n",
       "</tr>\n",
       "<tr>\n",
       "  <th>Response</th>                      <td> -450.2135</td> <td>  192.547</td> <td>   -2.338</td> <td> 0.019</td> <td> -827.648</td> <td>  -72.779</td>\n",
       "</tr>\n",
       "<tr>\n",
       "  <th>Coverage</th>                      <td> -186.3677</td> <td>  113.640</td> <td>   -1.640</td> <td> 0.101</td> <td> -409.127</td> <td>   36.392</td>\n",
       "</tr>\n",
       "<tr>\n",
       "  <th>Education</th>                     <td>   93.8688</td> <td>   47.764</td> <td>    1.965</td> <td> 0.049</td> <td>    0.241</td> <td>  187.496</td>\n",
       "</tr>\n",
       "<tr>\n",
       "  <th>Effective To Date</th>             <td>   -6.6838</td> <td>    3.869</td> <td>   -1.727</td> <td> 0.084</td> <td>  -14.268</td> <td>    0.901</td>\n",
       "</tr>\n",
       "<tr>\n",
       "  <th>EmploymentStatus</th>              <td> -105.0512</td> <td>   73.564</td> <td>   -1.428</td> <td> 0.153</td> <td> -249.252</td> <td>   39.150</td>\n",
       "</tr>\n",
       "<tr>\n",
       "  <th>Gender</th>                        <td> -140.1122</td> <td>  132.592</td> <td>   -1.057</td> <td> 0.291</td> <td> -400.022</td> <td>  119.797</td>\n",
       "</tr>\n",
       "<tr>\n",
       "  <th>Income</th>                        <td>    0.0021</td> <td>    0.003</td> <td>    0.659</td> <td> 0.510</td> <td>   -0.004</td> <td>    0.009</td>\n",
       "</tr>\n",
       "<tr>\n",
       "  <th>Location Code</th>                 <td>  109.2173</td> <td>  116.530</td> <td>    0.937</td> <td> 0.349</td> <td> -119.207</td> <td>  337.641</td>\n",
       "</tr>\n",
       "<tr>\n",
       "  <th>Marital Status</th>                <td> -240.8148</td> <td>  110.614</td> <td>   -2.177</td> <td> 0.030</td> <td> -457.644</td> <td>  -23.986</td>\n",
       "</tr>\n",
       "<tr>\n",
       "  <th>Monthly Premium Auto</th>          <td>   82.7641</td> <td>    2.923</td> <td>   28.315</td> <td> 0.000</td> <td>   77.034</td> <td>   88.494</td>\n",
       "</tr>\n",
       "<tr>\n",
       "  <th>Months Since Last Claim</th>       <td>    6.9809</td> <td>    6.543</td> <td>    1.067</td> <td> 0.286</td> <td>   -5.845</td> <td>   19.807</td>\n",
       "</tr>\n",
       "<tr>\n",
       "  <th>Months Since Policy Inception</th> <td>   -0.8089</td> <td>    2.372</td> <td>   -0.341</td> <td> 0.733</td> <td>   -5.459</td> <td>    3.841</td>\n",
       "</tr>\n",
       "<tr>\n",
       "  <th>Number of Open Complaints</th>     <td> -251.7392</td> <td>   72.327</td> <td>   -3.481</td> <td> 0.001</td> <td> -393.516</td> <td> -109.963</td>\n",
       "</tr>\n",
       "<tr>\n",
       "  <th>Number of Policies</th>            <td>   64.1685</td> <td>   27.648</td> <td>    2.321</td> <td> 0.020</td> <td>    9.971</td> <td>  118.366</td>\n",
       "</tr>\n",
       "<tr>\n",
       "  <th>Policy Type</th>                   <td>  439.8934</td> <td>  290.903</td> <td>    1.512</td> <td> 0.131</td> <td> -130.343</td> <td> 1010.129</td>\n",
       "</tr>\n",
       "<tr>\n",
       "  <th>Policy</th>                        <td>  -48.3025</td> <td>   86.215</td> <td>   -0.560</td> <td> 0.575</td> <td> -217.303</td> <td>  120.698</td>\n",
       "</tr>\n",
       "<tr>\n",
       "  <th>Renew Offer Type</th>              <td> -349.4798</td> <td>   68.455</td> <td>   -5.105</td> <td> 0.000</td> <td> -483.668</td> <td> -215.292</td>\n",
       "</tr>\n",
       "<tr>\n",
       "  <th>Sales Channel</th>                 <td>   20.8988</td> <td>   62.267</td> <td>    0.336</td> <td> 0.737</td> <td> -101.158</td> <td>  142.956</td>\n",
       "</tr>\n",
       "<tr>\n",
       "  <th>Total Claim Amount</th>            <td>   -0.5866</td> <td>    0.362</td> <td>   -1.621</td> <td> 0.105</td> <td>   -1.296</td> <td>    0.123</td>\n",
       "</tr>\n",
       "<tr>\n",
       "  <th>Vehicle Class</th>                 <td>   44.8664</td> <td>   32.409</td> <td>    1.384</td> <td> 0.166</td> <td>  -18.663</td> <td>  108.396</td>\n",
       "</tr>\n",
       "<tr>\n",
       "  <th>Vehicle Size</th>                  <td>  187.8871</td> <td>  123.302</td> <td>    1.524</td> <td> 0.128</td> <td>  -53.813</td> <td>  429.587</td>\n",
       "</tr>\n",
       "</table>\n",
       "<table class=\"simpletable\">\n",
       "<tr>\n",
       "  <th>Omnibus:</th>       <td>5656.816</td> <th>  Durbin-Watson:     </th> <td>   1.997</td> \n",
       "</tr>\n",
       "<tr>\n",
       "  <th>Prob(Omnibus):</th>  <td> 0.000</td>  <th>  Jarque-Bera (JB):  </th> <td>64358.326</td>\n",
       "</tr>\n",
       "<tr>\n",
       "  <th>Skew:</th>           <td> 2.847</td>  <th>  Prob(JB):          </th> <td>    0.00</td> \n",
       "</tr>\n",
       "<tr>\n",
       "  <th>Kurtosis:</th>       <td>14.692</td>  <th>  Cond. No.          </th> <td>3.74e+05</td> \n",
       "</tr>\n",
       "</table><br/><br/>Warnings:<br/>[1] Standard Errors assume that the covariance matrix of the errors is correctly specified.<br/>[2] The condition number is large, 3.74e+05. This might indicate that there are<br/>strong multicollinearity or other numerical problems."
      ],
      "text/plain": [
       "<class 'statsmodels.iolib.summary.Summary'>\n",
       "\"\"\"\n",
       "                               OLS Regression Results                              \n",
       "===================================================================================\n",
       "Dep. Variable:     Customer Lifetime Value   R-squared:                       0.166\n",
       "Model:                                 OLS   Adj. R-squared:                  0.164\n",
       "Method:                      Least Squares   F-statistic:                     78.97\n",
       "Date:                     Sun, 05 Jan 2020   Prob (F-statistic):               0.00\n",
       "Time:                             21:29:50   Log-Likelihood:                -92829.\n",
       "No. Observations:                     9134   AIC:                         1.857e+05\n",
       "Df Residuals:                         9110   BIC:                         1.859e+05\n",
       "Df Model:                               23                                         \n",
       "Covariance Type:                 nonrobust                                         \n",
       "=================================================================================================\n",
       "                                    coef    std err          t      P>|t|      [0.025      0.975]\n",
       "-------------------------------------------------------------------------------------------------\n",
       "const                          1071.0909    499.588      2.144      0.032      91.786    2050.396\n",
       "Customer                         -0.0768      0.025     -3.078      0.002      -0.126      -0.028\n",
       "State                            30.1424     51.092      0.590      0.555     -70.010     130.294\n",
       "Response                       -450.2135    192.547     -2.338      0.019    -827.648     -72.779\n",
       "Coverage                       -186.3677    113.640     -1.640      0.101    -409.127      36.392\n",
       "Education                        93.8688     47.764      1.965      0.049       0.241     187.496\n",
       "Effective To Date                -6.6838      3.869     -1.727      0.084     -14.268       0.901\n",
       "EmploymentStatus               -105.0512     73.564     -1.428      0.153    -249.252      39.150\n",
       "Gender                         -140.1122    132.592     -1.057      0.291    -400.022     119.797\n",
       "Income                            0.0021      0.003      0.659      0.510      -0.004       0.009\n",
       "Location Code                   109.2173    116.530      0.937      0.349    -119.207     337.641\n",
       "Marital Status                 -240.8148    110.614     -2.177      0.030    -457.644     -23.986\n",
       "Monthly Premium Auto             82.7641      2.923     28.315      0.000      77.034      88.494\n",
       "Months Since Last Claim           6.9809      6.543      1.067      0.286      -5.845      19.807\n",
       "Months Since Policy Inception    -0.8089      2.372     -0.341      0.733      -5.459       3.841\n",
       "Number of Open Complaints      -251.7392     72.327     -3.481      0.001    -393.516    -109.963\n",
       "Number of Policies               64.1685     27.648      2.321      0.020       9.971     118.366\n",
       "Policy Type                     439.8934    290.903      1.512      0.131    -130.343    1010.129\n",
       "Policy                          -48.3025     86.215     -0.560      0.575    -217.303     120.698\n",
       "Renew Offer Type               -349.4798     68.455     -5.105      0.000    -483.668    -215.292\n",
       "Sales Channel                    20.8988     62.267      0.336      0.737    -101.158     142.956\n",
       "Total Claim Amount               -0.5866      0.362     -1.621      0.105      -1.296       0.123\n",
       "Vehicle Class                    44.8664     32.409      1.384      0.166     -18.663     108.396\n",
       "Vehicle Size                    187.8871    123.302      1.524      0.128     -53.813     429.587\n",
       "==============================================================================\n",
       "Omnibus:                     5656.816   Durbin-Watson:                   1.997\n",
       "Prob(Omnibus):                  0.000   Jarque-Bera (JB):            64358.326\n",
       "Skew:                           2.847   Prob(JB):                         0.00\n",
       "Kurtosis:                      14.692   Cond. No.                     3.74e+05\n",
       "==============================================================================\n",
       "\n",
       "Warnings:\n",
       "[1] Standard Errors assume that the covariance matrix of the errors is correctly specified.\n",
       "[2] The condition number is large, 3.74e+05. This might indicate that there are\n",
       "strong multicollinearity or other numerical problems.\n",
       "\"\"\""
      ]
     },
     "execution_count": 47,
     "metadata": {},
     "output_type": "execute_result"
    }
   ],
   "source": [
    "X_sm = X\n",
    "X_sm = sm.add_constant(X_sm)\n",
    "lm = sm.OLS(y,X_sm).fit()\n",
    "lm.summary()"
   ]
  },
  {
   "cell_type": "markdown",
   "metadata": {
    "id": "A693G5KWSXAZ"
   },
   "source": [
    "After Looking at the base model and the p-value of the feature's, we know that the Hypothesis for the feature's is\n",
    "\n",
    "H0: Feature is not significant\n",
    "Ha: Feature is significant\n",
    "But we just cant conclude the significance of the feature's just by base model and also without using any of the feature engineering technique's we have at our disposal. So we will first try to do the statistical test's of the feature for the feature selection, we can also use the forward selection and backward elimination , we will use the Variance inflation factor"
   ]
  },
  {
   "cell_type": "markdown",
   "metadata": {
    "id": "Z9sOAHJuSXAZ"
   },
   "source": [
    "### ASSUMPTIONS OF LINEAR REGRESSION.\n",
    "### Linearity"
   ]
  },
  {
   "cell_type": "code",
   "execution_count": null,
   "metadata": {
    "id": "Jq-kRBy8SXAZ",
    "outputId": "e7a849b5-5fed-43b9-9671-ae10fde77b1e"
   },
   "outputs": [
    {
     "data": {
      "image/png": "[encoded data removed]",
      "text/plain": [
       "<Figure size 540x180 with 3 Axes>"
      ]
     },
     "metadata": {
      "needs_background": "light"
     },
     "output_type": "display_data"
    }
   ],
   "source": [
    "sns.pairplot(x_vars=['Monthly Premium Auto','Total Claim Amount','Income'],y_vars =['Customer Lifetime Value'],data = data)\n",
    "plt.show()"
   ]
  },
  {
   "cell_type": "markdown",
   "metadata": {
    "id": "0Wev-8KRSXAZ"
   },
   "source": [
    "We don't see any linear relationship between the variables and the Y varible , which fails the first assumption of linear regression."
   ]
  },
  {
   "cell_type": "markdown",
   "metadata": {
    "id": "xdlREehoSXAZ"
   },
   "source": [
    "### Mean Of Residuals"
   ]
  },
  {
   "cell_type": "code",
   "execution_count": null,
   "metadata": {
    "id": "8dj6UX9oSXAZ"
   },
   "outputs": [],
   "source": [
    "X_train,X_test,y_train,y_test = train_test_split(X,y,test_size=0.3,random_state=100)"
   ]
  },
  {
   "cell_type": "code",
   "execution_count": null,
   "metadata": {
    "id": "DzWmQ21XSXAZ",
    "outputId": "551885ab-e7fc-41b3-8ecf-0529ee0ba15b"
   },
   "outputs": [
    {
     "name": "stdout",
     "output_type": "stream",
     "text": [
      "The mean of the residuals is -48.720195412063156\n"
     ]
    }
   ],
   "source": [
    "lr.fit(X_train,y_train)\n",
    "y_pred = lr.predict(X_test)\n",
    "residuals = y_pred-y_test\n",
    "mean_of_residuals = np.mean(residuals)\n",
    "print(f\"The mean of the residuals is {mean_of_residuals}\")"
   ]
  },
  {
   "cell_type": "markdown",
   "metadata": {
    "id": "E8qIbff0SXAa"
   },
   "source": [
    "The 2nd assumption is that the mean of the residuals must be close to zero, which again fails."
   ]
  },
  {
   "cell_type": "markdown",
   "metadata": {
    "id": "9PmJDGEPSXAa"
   },
   "source": [
    "### Homoscedasticity_test"
   ]
  },
  {
   "cell_type": "code",
   "execution_count": null,
   "metadata": {
    "id": "Agc2XGx0SXAa",
    "outputId": "8776efc4-83e6-4821-f0a3-e4aeccf3754d"
   },
   "outputs": [
    {
     "data": {
      "text/plain": [
       "[('F statistic', 1.386631262828131), ('p-value', 1.0799648075037025e-09)]"
      ]
     },
     "execution_count": 51,
     "metadata": {},
     "output_type": "execute_result"
    }
   ],
   "source": [
    "name = ['F statistic', 'p-value']\n",
    "test = sms.het_goldfeldquandt(residuals,X_test)\n",
    "lzip(name, test)"
   ]
  },
  {
   "cell_type": "markdown",
   "metadata": {
    "id": "gyWdzAerSXAa"
   },
   "source": [
    "H0: Error terms are homoscedastic\n",
    "\n",
    "Ha: Error terms are not homoscedastic\n",
    "\n",
    "p-value < 0.05 reject null hypothesis, error terms are not homoscedastic"
   ]
  },
  {
   "cell_type": "markdown",
   "metadata": {
    "id": "YLinBUZHSXAa"
   },
   "source": [
    "### Test of normality of residuals"
   ]
  },
  {
   "cell_type": "code",
   "execution_count": null,
   "metadata": {
    "id": "jjy2T41bSXAa",
    "outputId": "d8066007-6eda-4d8b-dfc3-3a0a10b9bd5e"
   },
   "outputs": [
    {
     "data": {
      "image/png": "[encoded data removed]",
      "text/plain": [
       "<Figure size 432x288 with 1 Axes>"
      ]
     },
     "metadata": {
      "needs_background": "light"
     },
     "output_type": "display_data"
    }
   ],
   "source": [
    "p = sns.distplot(residuals,kde=True)\n",
    "p = plt.title('Normality of error terms/residuals')"
   ]
  },
  {
   "cell_type": "markdown",
   "metadata": {
    "id": "eaNGjo7jSXAa"
   },
   "source": [
    "The distribution clearly show's that the residuals are not normally distributed, and the third assumption also fails."
   ]
  },
  {
   "cell_type": "markdown",
   "metadata": {
    "id": "gOXhSupESXAa"
   },
   "source": [
    "### No Autocorrelation"
   ]
  },
  {
   "cell_type": "code",
   "execution_count": null,
   "metadata": {
    "id": "jxK1VTR4SXAa",
    "outputId": "f27a7e57-1229-45dc-fe38-6c4dd7978b4c"
   },
   "outputs": [
    {
     "data": {
      "text/plain": [
       "0.07495722040140565"
      ]
     },
     "execution_count": 53,
     "metadata": {},
     "output_type": "execute_result"
    }
   ],
   "source": [
    "min(diag.acorr_ljungbox(residuals , lags = 40)[1])"
   ]
  },
  {
   "cell_type": "markdown",
   "metadata": {
    "id": "CVDw2EYkSXAa"
   },
   "source": [
    "Ho: Autocorrelation is absent\n",
    "\n",
    "Ha: Autocorrelation is present\n",
    "\n",
    "The P-value is >0.05 ,we fail to reject the null hypothesis, autocorrelation is absent."
   ]
  },
  {
   "cell_type": "markdown",
   "metadata": {
    "id": "Kz-kqIprSXAa"
   },
   "source": [
    "### NO MULTI COLLINEARITY"
   ]
  },
  {
   "cell_type": "code",
   "execution_count": null,
   "metadata": {
    "id": "wvFdhNidSXAa",
    "outputId": "8b2da455-e141-4070-b0b4-f8bed5ee484d"
   },
   "outputs": [
    {
     "data": {
      "text/html": [
       "<div>\n",
       "<style scoped>\n",
       "    .dataframe tbody tr th:only-of-type {\n",
       "        vertical-align: middle;\n",
       "    }\n",
       "\n",
       "    .dataframe tbody tr th {\n",
       "        vertical-align: top;\n",
       "    }\n",
       "\n",
       "    .dataframe thead th {\n",
       "        text-align: right;\n",
       "    }\n",
       "</style>\n",
       "<table border=\"1\" class=\"dataframe\">\n",
       "  <thead>\n",
       "    <tr style=\"text-align: right;\">\n",
       "      <th></th>\n",
       "      <th>Customer</th>\n",
       "      <th>State</th>\n",
       "      <th>Response</th>\n",
       "      <th>Coverage</th>\n",
       "      <th>Education</th>\n",
       "      <th>Effective To Date</th>\n",
       "      <th>EmploymentStatus</th>\n",
       "      <th>Gender</th>\n",
       "      <th>Income</th>\n",
       "      <th>Location Code</th>\n",
       "      <th>Marital Status</th>\n",
       "      <th>Monthly Premium Auto</th>\n",
       "      <th>Months Since Last Claim</th>\n",
       "      <th>Months Since Policy Inception</th>\n",
       "      <th>Number of Open Complaints</th>\n",
       "      <th>Number of Policies</th>\n",
       "      <th>Policy Type</th>\n",
       "      <th>Policy</th>\n",
       "      <th>Renew Offer Type</th>\n",
       "      <th>Sales Channel</th>\n",
       "      <th>Total Claim Amount</th>\n",
       "      <th>Vehicle Class</th>\n",
       "      <th>Vehicle Size</th>\n",
       "    </tr>\n",
       "  </thead>\n",
       "  <tbody>\n",
       "    <tr>\n",
       "      <th>vif</th>\n",
       "      <td>1.002315</td>\n",
       "      <td>1.001907</td>\n",
       "      <td>1.052902</td>\n",
       "      <td>1.285492</td>\n",
       "      <td>1.008412</td>\n",
       "      <td>1.003331</td>\n",
       "      <td>2.275172</td>\n",
       "      <td>1.016928</td>\n",
       "      <td>2.262305</td>\n",
       "      <td>1.153125</td>\n",
       "      <td>1.148481</td>\n",
       "      <td>2.341101</td>\n",
       "      <td>1.005443</td>\n",
       "      <td>1.014143</td>\n",
       "      <td>1.003434</td>\n",
       "      <td>1.010753</td>\n",
       "      <td>4.437447</td>\n",
       "      <td>4.436956</td>\n",
       "      <td>1.101067</td>\n",
       "      <td>1.026306</td>\n",
       "      <td>2.556749</td>\n",
       "      <td>1.044654</td>\n",
       "      <td>1.015869</td>\n",
       "    </tr>\n",
       "  </tbody>\n",
       "</table>\n",
       "</div>"
      ],
      "text/plain": [
       "     Customer     State  Response  Coverage  Education  Effective To Date  \\\n",
       "vif  1.002315  1.001907  1.052902  1.285492   1.008412           1.003331   \n",
       "\n",
       "     EmploymentStatus    Gender    Income  Location Code  Marital Status  \\\n",
       "vif          2.275172  1.016928  2.262305       1.153125        1.148481   \n",
       "\n",
       "     Monthly Premium Auto  Months Since Last Claim  \\\n",
       "vif              2.341101                 1.005443   \n",
       "\n",
       "     Months Since Policy Inception  Number of Open Complaints  \\\n",
       "vif                       1.014143                   1.003434   \n",
       "\n",
       "     Number of Policies  Policy Type    Policy  Renew Offer Type  \\\n",
       "vif            1.010753     4.437447  4.436956          1.101067   \n",
       "\n",
       "     Sales Channel  Total Claim Amount  Vehicle Class  Vehicle Size  \n",
       "vif       1.026306            2.556749       1.044654      1.015869  "
      ]
     },
     "execution_count": 54,
     "metadata": {},
     "output_type": "execute_result"
    }
   ],
   "source": [
    "from statsmodels.stats.outliers_influence import variance_inflation_factor\n",
    "\n",
    "vif = [variance_inflation_factor(X_sm.values, i) for i in range(X_sm.shape[1])]\n",
    "pd.DataFrame({'vif': vif[1:]}, index=X.columns).T"
   ]
  },
  {
   "cell_type": "markdown",
   "metadata": {
    "id": "8f6UoiL1SXAa"
   },
   "source": [
    "So, multicollinearity exists."
   ]
  },
  {
   "cell_type": "markdown",
   "metadata": {
    "id": "RofCARBgSXAa"
   },
   "source": [
    "### STATISTICAL ANALYSIS"
   ]
  },
  {
   "cell_type": "markdown",
   "metadata": {
    "id": "X6i-BM3OSXAa"
   },
   "source": [
    "Considering CLV (Customer Lifetime Value) as the target variable, we shall try to understand how each of the independent variables are contributing towards the target variable.\n",
    "\n",
    "Since our target variable is a continuous variable, we will have to perform ANOVA to understand how significant are the independent variables towards target variable.\n",
    "\n",
    "For ANOVA,\n",
    "\n",
    "Null hypothesis is that there is no significant difference among the groups\n",
    "Alternative hypothesis is that there is at least one significant difference among the groups"
   ]
  },
  {
   "cell_type": "markdown",
   "metadata": {
    "id": "clzqDTOcSXAa"
   },
   "source": [
    "#### State vs Customer Lifetime Value"
   ]
  },
  {
   "cell_type": "code",
   "execution_count": null,
   "metadata": {
    "id": "r4EY_gqRSXAb"
   },
   "outputs": [],
   "source": [
    "data=pd.read_csv('Insurance_Marketing-Customer-Value-Analysis.csv')"
   ]
  },
  {
   "cell_type": "code",
   "execution_count": null,
   "metadata": {
    "id": "avDHZbRmSXAb"
   },
   "outputs": [],
   "source": [
    "State = data.groupby('State')\n",
    "Washington = State.get_group('Washington')['Customer Lifetime Value']\n",
    "Arizona = State.get_group('Arizona')['Customer Lifetime Value']\n",
    "Nevada = State.get_group('Nevada')['Customer Lifetime Value']\n",
    "California = State.get_group('California')['Customer Lifetime Value']\n",
    "Oregon = State.get_group('Oregon')['Customer Lifetime Value']"
   ]
  },
  {
   "cell_type": "code",
   "execution_count": null,
   "metadata": {
    "id": "YDP-gP40SXAb",
    "outputId": "504511a0-52d7-4709-e719-39e12b02e97a"
   },
   "outputs": [
    {
     "name": "stdout",
     "output_type": "stream",
     "text": [
      "NormaltestResult(statistic=589.985409403956, pvalue=7.69655090624974e-129) \n",
      "\n",
      "NormaltestResult(statistic=1123.931182802557, pvalue=8.73865582665683e-245) \n",
      "\n",
      "NormaltestResult(statistic=531.43144944664, pvalue=3.9914160352323387e-116) \n",
      "\n",
      "NormaltestResult(statistic=2047.3388756109375, pvalue=0.0) \n",
      "\n",
      "NormaltestResult(statistic=1836.7206700158117, pvalue=0.0) \n",
      "\n"
     ]
    }
   ],
   "source": [
    "for i in [Washington,Arizona,Nevada,California,Oregon]:\n",
    "    print(normaltest(i),'\\n')"
   ]
  },
  {
   "cell_type": "markdown",
   "metadata": {
    "id": "qeCLn9FWSXAb"
   },
   "source": [
    "CLV of all the 'States' follow a normal distribution. Hence, we can perform ANOVA test."
   ]
  },
  {
   "cell_type": "code",
   "execution_count": null,
   "metadata": {
    "id": "hDAHh4lESXAb",
    "outputId": "928b90dd-931c-45ec-8b45-07967f9c0685"
   },
   "outputs": [
    {
     "data": {
      "text/plain": [
       "F_onewayResult(statistic=0.27289285462119284, pvalue=0.8955985932127517)"
      ]
     },
     "execution_count": 58,
     "metadata": {},
     "output_type": "execute_result"
    }
   ],
   "source": [
    "f_oneway(Washington,Arizona,Nevada,California,Oregon)"
   ]
  },
  {
   "cell_type": "markdown",
   "metadata": {
    "id": "HFp8Mf98SXAb"
   },
   "source": [
    "ALL STATES HAVE SAME MEAN VALUE FOR CLV\n",
    "\n",
    "pvalue > 0.05 implies that there is no significant difference in the mean of target variable which means 'State' feature is not significant for predicting 'Customer Lifetime Value'"
   ]
  },
  {
   "cell_type": "markdown",
   "metadata": {
    "id": "nh1Cj0ngSXAb"
   },
   "source": [
    "#### Customer Response to marketing calls vs Customer Lifetime Value"
   ]
  },
  {
   "cell_type": "code",
   "execution_count": null,
   "metadata": {
    "id": "RykB6kVFSXAb"
   },
   "outputs": [],
   "source": [
    "Response = data[['Customer Lifetime Value','Response']].groupby('Response')\n",
    "No = Response['Customer Lifetime Value'].get_group('No')\n",
    "Yes = Response['Customer Lifetime Value'].get_group('Yes')"
   ]
  },
  {
   "cell_type": "code",
   "execution_count": null,
   "metadata": {
    "id": "In0wdWg8SXAb",
    "outputId": "0ef7fc36-3644-4249-dc65-43e2b1f59dfd"
   },
   "outputs": [
    {
     "name": "stdout",
     "output_type": "stream",
     "text": [
      "NormaltestResult(statistic=5322.477891516728, pvalue=0.0) \n",
      "\n",
      "NormaltestResult(statistic=639.4950779413575, pvalue=1.3658664040085885e-139) \n",
      "\n"
     ]
    }
   ],
   "source": [
    "for i in [No,Yes]:\n",
    "    print(normaltest(i),'\\n')"
   ]
  },
  {
   "cell_type": "markdown",
   "metadata": {
    "id": "m-iI8GA7SXAb"
   },
   "source": [
    "CLV of all the 'Response' follow a normal distribution. Hence, we can perform ANOVA test or test of mean for independent categories."
   ]
  },
  {
   "cell_type": "code",
   "execution_count": null,
   "metadata": {
    "id": "UPIjkW06SXAb",
    "outputId": "e7183812-a2ac-42a7-8f2f-4fe6348d5b95"
   },
   "outputs": [
    {
     "data": {
      "text/plain": [
       "Ttest_indResult(statistic=0.8533582829612565, pvalue=0.393483030479461)"
      ]
     },
     "execution_count": 61,
     "metadata": {},
     "output_type": "execute_result"
    }
   ],
   "source": [
    "ttest_ind(No,Yes)"
   ]
  },
  {
   "cell_type": "markdown",
   "metadata": {
    "id": "EqnhnomeSXAb"
   },
   "source": [
    "RESPONE HAVE SAME MEAN VALUE\n",
    "\n",
    "pvalue > 0.05 implies that there is no significant difference in the mean of target variable which means 'Response' feature is not significant for predicting 'Customer Lifetime Value'"
   ]
  },
  {
   "cell_type": "markdown",
   "metadata": {
    "id": "8IGiIt3eSXAb"
   },
   "source": [
    "#### Coverage Type vs Customer Lifetime Value"
   ]
  },
  {
   "cell_type": "code",
   "execution_count": null,
   "metadata": {
    "id": "DgPWDNXVSXAb"
   },
   "outputs": [],
   "source": [
    "Coverage = data[['Customer Lifetime Value','Coverage']].groupby('Coverage')\n",
    "basic = Coverage['Customer Lifetime Value'].get_group('Basic')\n",
    "extended = Coverage['Customer Lifetime Value'].get_group('Extended')\n",
    "premium = Coverage['Customer Lifetime Value'].get_group('Premium')"
   ]
  },
  {
   "cell_type": "code",
   "execution_count": null,
   "metadata": {
    "id": "zPkw7vH1SXAb",
    "outputId": "b299881e-872a-4cde-b368-8cd2187e2ac3"
   },
   "outputs": [
    {
     "name": "stdout",
     "output_type": "stream",
     "text": [
      "NormaltestResult(statistic=3458.849448301252, pvalue=0.0) \n",
      "\n",
      "NormaltestResult(statistic=1947.8731066934433, pvalue=0.0) \n",
      "\n",
      "NormaltestResult(statistic=503.3468946321326, pvalue=5.007380445967074e-110) \n",
      "\n"
     ]
    }
   ],
   "source": [
    "for i in [basic,extended,premium]:\n",
    "    print(normaltest(i),'\\n')"
   ]
  },
  {
   "cell_type": "markdown",
   "metadata": {
    "id": "zjf_7sN4SXAb"
   },
   "source": [
    "CLV of all the 'Coverage' follow a normal distribution. Hence, we can perform ANOVA test."
   ]
  },
  {
   "cell_type": "code",
   "execution_count": null,
   "metadata": {
    "id": "fYl4ozfxSXAb",
    "outputId": "867b082c-7ef1-4886-bdbd-7b7ad3c18078"
   },
   "outputs": [
    {
     "data": {
      "text/plain": [
       "F_onewayResult(statistic=133.67511419504908, pvalue=6.0158970099807e-58)"
      ]
     },
     "execution_count": 64,
     "metadata": {},
     "output_type": "execute_result"
    }
   ],
   "source": [
    "f_oneway(basic,extended,premium)"
   ]
  },
  {
   "cell_type": "markdown",
   "metadata": {
    "id": "RWAS8M7kSXAc"
   },
   "source": [
    "MEANS ARE NOT SAME FOR COVERAGE\n",
    "\n",
    "pvalue < 0.05 implies that there is significant difference in the mean of target variable for atleast one group of 'Coverage' which means 'Coverage' feature can be a significant for predicting 'Customer Lifetime Value'"
   ]
  },
  {
   "cell_type": "markdown",
   "metadata": {
    "id": "8IdnQwUcSXAc"
   },
   "source": [
    "#### Education vs Customer Lifetime Value"
   ]
  },
  {
   "cell_type": "code",
   "execution_count": null,
   "metadata": {
    "id": "NhN5IIvNSXAc"
   },
   "outputs": [],
   "source": [
    "Education = data[['Customer Lifetime Value','Education']].groupby('Education')\n",
    "bachelor = Education['Customer Lifetime Value'].get_group('Bachelor')\n",
    "college = Education['Customer Lifetime Value'].get_group('College')\n",
    "highschool = Education['Customer Lifetime Value'].get_group('High School or Below')\n",
    "master = Education['Customer Lifetime Value'].get_group('Master')\n",
    "doctor = Education['Customer Lifetime Value'].get_group('Doctor')"
   ]
  },
  {
   "cell_type": "code",
   "execution_count": null,
   "metadata": {
    "id": "pyjfUcn4SXAc",
    "outputId": "bd17cacb-27f4-4f7c-e9b4-eeb6e107e0d4"
   },
   "outputs": [
    {
     "name": "stdout",
     "output_type": "stream",
     "text": [
      "NormaltestResult(statistic=3458.849448301252, pvalue=0.0) \n",
      "\n",
      "NormaltestResult(statistic=1808.0647185961266, pvalue=0.0) \n",
      "\n",
      "NormaltestResult(statistic=1797.622885789157, pvalue=0.0) \n",
      "\n",
      "NormaltestResult(statistic=420.3468077537673, pvalue=5.282633163257892e-92) \n",
      "\n",
      "NormaltestResult(statistic=207.1795478118804, pvalue=1.0269110120928107e-45) \n",
      "\n"
     ]
    }
   ],
   "source": [
    "for i in [basic,college,highschool,master,doctor]:\n",
    "    print(normaltest(i),'\\n')"
   ]
  },
  {
   "cell_type": "markdown",
   "metadata": {
    "id": "Jr477FMPSXAc"
   },
   "source": [
    "CLV of all the categories of 'Education' follow a normal distribution. Hence, we can perform ANOVA test."
   ]
  },
  {
   "cell_type": "code",
   "execution_count": null,
   "metadata": {
    "id": "D1hFnIk4SXAc",
    "outputId": "cc73b0aa-2fa8-4b60-9d1d-5a0b41562415"
   },
   "outputs": [
    {
     "data": {
      "text/plain": [
       "F_onewayResult(statistic=2.4228653480521904, pvalue=0.04603615409468821)"
      ]
     },
     "execution_count": 67,
     "metadata": {},
     "output_type": "execute_result"
    }
   ],
   "source": [
    "f_oneway(bachelor,college,highschool,master,doctor)"
   ]
  },
  {
   "cell_type": "markdown",
   "metadata": {
    "id": "zO0UgqDBSXAc"
   },
   "source": [
    "MEANS ARE NOT SAME FOR EDUCATION\n",
    "\n",
    "pvalue < 0.05 implies that there is significant difference in the mean of target variable for atleast one group of 'Education' which means 'Education' feature can be a significant for predicting 'Customer Lifetime Value'"
   ]
  },
  {
   "cell_type": "markdown",
   "metadata": {
    "id": "zo-JaF88SXAc"
   },
   "source": [
    "#### Employment Status vs Customer Lifetime Value "
   ]
  },
  {
   "cell_type": "code",
   "execution_count": null,
   "metadata": {
    "id": "0yn8F3oaSXAc"
   },
   "outputs": [],
   "source": [
    "es = data[['Customer Lifetime Value','EmploymentStatus']].groupby('EmploymentStatus')\n",
    "employed = es['Customer Lifetime Value'].get_group('Employed')\n",
    "unemployed = es['Customer Lifetime Value'].get_group('Unemployed')\n",
    "medleave = es['Customer Lifetime Value'].get_group('Medical Leave')\n",
    "disabled = es['Customer Lifetime Value'].get_group('Disabled')\n",
    "retired = es['Customer Lifetime Value'].get_group('Retired')"
   ]
  },
  {
   "cell_type": "code",
   "execution_count": null,
   "metadata": {
    "id": "N8fWu89nSXAc",
    "outputId": "532c5481-5cbc-468b-d47c-755d0bf53a65"
   },
   "outputs": [
    {
     "name": "stdout",
     "output_type": "stream",
     "text": [
      "NormaltestResult(statistic=3761.129277691408, pvalue=0.0) \n",
      "\n",
      "NormaltestResult(statistic=1679.139433825762, pvalue=0.0) \n",
      "\n",
      "NormaltestResult(statistic=235.4863106944144, pvalue=7.324826645525092e-52) \n",
      "\n",
      "NormaltestResult(statistic=276.0845869374091, pvalue=1.119421586116707e-60) \n",
      "\n",
      "NormaltestResult(statistic=99.68654915712415, pvalue=2.256009325581312e-22) \n",
      "\n"
     ]
    }
   ],
   "source": [
    "for i in [employed,unemployed,medleave,disabled,retired]:\n",
    "    print(normaltest(i),'\\n')"
   ]
  },
  {
   "cell_type": "markdown",
   "metadata": {
    "id": "ikyV7_HTSXAc"
   },
   "source": [
    "CLV of all the categories of 'Employment Status' follow a normal distribution. Hence, we can perform ANOVA test."
   ]
  },
  {
   "cell_type": "code",
   "execution_count": null,
   "metadata": {
    "id": "uGe6NH9PSXAc",
    "outputId": "2d3b783d-74c6-4ac8-9d29-8461e347118e"
   },
   "outputs": [
    {
     "data": {
      "text/plain": [
       "F_onewayResult(statistic=3.809808710328605, pvalue=0.00425058662383102)"
      ]
     },
     "execution_count": 70,
     "metadata": {},
     "output_type": "execute_result"
    }
   ],
   "source": [
    "f_oneway(employed,unemployed,medleave,disabled,retired)"
   ]
  },
  {
   "cell_type": "markdown",
   "metadata": {
    "id": "_0QyZBI9SXAc"
   },
   "source": [
    "MEANS ARE NOT SAME FOR Employment Status\n",
    "\n",
    "pvalue < 0.05 implies that there is significant difference in the mean of target variable for atleast one group of 'Employment Status' which means 'Employment Status' feature can be a significant for predicting 'Customer Lifetime Value'"
   ]
  },
  {
   "cell_type": "markdown",
   "metadata": {
    "id": "cguL7KfXSXAc"
   },
   "source": [
    "#### Gender vs Customer Lifetime Value"
   ]
  },
  {
   "cell_type": "code",
   "execution_count": null,
   "metadata": {
    "id": "W7AHn65WSXAd"
   },
   "outputs": [],
   "source": [
    "g = data[['Customer Lifetime Value','Gender']].groupby('Gender')\n",
    "f = g['Customer Lifetime Value'].get_group('F')\n",
    "m = g['Customer Lifetime Value'].get_group('M')"
   ]
  },
  {
   "cell_type": "code",
   "execution_count": null,
   "metadata": {
    "id": "w_ctrejESXAd",
    "outputId": "374ef885-fa65-4adf-acf7-c8ee5f9e57de"
   },
   "outputs": [
    {
     "name": "stdout",
     "output_type": "stream",
     "text": [
      "NormaltestResult(statistic=2834.0749107540296, pvalue=0.0) \n",
      "\n",
      "NormaltestResult(statistic=3243.1471942337193, pvalue=0.0) \n",
      "\n"
     ]
    }
   ],
   "source": [
    "for i in [f,m]:\n",
    "    print(normaltest(i),'\\n')"
   ]
  },
  {
   "cell_type": "markdown",
   "metadata": {
    "id": "qcXtEMrRSXAd"
   },
   "source": [
    "CLV of all the categories of 'Gender' follow a normal distribution. Hence, we can perform ANOVA test or test of mean for independent features."
   ]
  },
  {
   "cell_type": "code",
   "execution_count": null,
   "metadata": {
    "id": "Eddn3pXXSXAd",
    "outputId": "ccf39106-8d41-4561-f010-49161e89945b"
   },
   "outputs": [
    {
     "data": {
      "text/plain": [
       "Ttest_indResult(statistic=1.300686352501256, pvalue=0.19339865630769232)"
      ]
     },
     "execution_count": 73,
     "metadata": {},
     "output_type": "execute_result"
    }
   ],
   "source": [
    "ttest_ind(f,m)"
   ]
  },
  {
   "cell_type": "markdown",
   "metadata": {
    "id": "tVsm5l57SXAd"
   },
   "source": [
    "MEANS ARE SAME FOR GENDER\n",
    "\n",
    "pvalue > 0.05 implies that there is no significant difference in the mean of target variable for 'Gender' which means 'Gender' feature is not significant for predicting 'Customer Lifetime Value'"
   ]
  },
  {
   "cell_type": "markdown",
   "metadata": {
    "id": "EEe96mYPSXAd"
   },
   "source": [
    "#### Location Code vs Customer Lifetime Value"
   ]
  },
  {
   "cell_type": "code",
   "execution_count": null,
   "metadata": {
    "id": "POBPcn3jSXAd"
   },
   "outputs": [],
   "source": [
    "location = data[['Customer Lifetime Value','Location Code']].groupby('Location Code')\n",
    "sub = location['Customer Lifetime Value'].get_group('Suburban')\n",
    "urban = location['Customer Lifetime Value'].get_group('Urban')\n",
    "rural = location['Customer Lifetime Value'].get_group('Rural')"
   ]
  },
  {
   "cell_type": "code",
   "execution_count": null,
   "metadata": {
    "id": "xHYjA04DSXAd",
    "outputId": "e89315d0-a2fc-4559-8a8b-a2aa64191b36"
   },
   "outputs": [
    {
     "name": "stdout",
     "output_type": "stream",
     "text": [
      "NormaltestResult(statistic=4001.809435806882, pvalue=0.0) \n",
      "\n",
      "NormaltestResult(statistic=941.3620057193798, pvalue=3.8533434657380165e-205) \n",
      "\n",
      "NormaltestResult(statistic=1122.9340758970607, pvalue=1.4386781520042673e-244) \n",
      "\n"
     ]
    }
   ],
   "source": [
    "for i in [sub,urban,rural]:\n",
    "    print(normaltest(i),'\\n')"
   ]
  },
  {
   "cell_type": "markdown",
   "metadata": {
    "id": "qmdXv1nPSXAd"
   },
   "source": [
    "CLV of all the categories of 'Location Code' follow a normal distribution. Hence, we can perform ANOVA test."
   ]
  },
  {
   "cell_type": "code",
   "execution_count": null,
   "metadata": {
    "id": "4g8EcYVpSXAd",
    "outputId": "ef1ae3ab-0815-4e18-e498-5d9f59a74f15"
   },
   "outputs": [
    {
     "data": {
      "text/plain": [
       "F_onewayResult(statistic=0.10800210605345337, pvalue=0.8976268526407198)"
      ]
     },
     "execution_count": 76,
     "metadata": {},
     "output_type": "execute_result"
    }
   ],
   "source": [
    "f_oneway(sub,urban,rural)"
   ]
  },
  {
   "cell_type": "markdown",
   "metadata": {
    "id": "eUaU6Ou-SXAd"
   },
   "source": [
    "MEANS ARE SAME FOR LOCATION CODE\n",
    "\n",
    "pvalue > 0.05 implies that there is no significant difference in the mean of target variable for 'Location Code' which means 'Location Code' feature is not significant for predicting 'Customer Lifetime Value'"
   ]
  },
  {
   "cell_type": "markdown",
   "metadata": {
    "id": "cKhfLQjASXAd"
   },
   "source": [
    "#### Marital Status vs Customer Lifetime Value"
   ]
  },
  {
   "cell_type": "code",
   "execution_count": null,
   "metadata": {
    "id": "arUwCmFvSXAg"
   },
   "outputs": [],
   "source": [
    "MaritalStatus = data[['Customer Lifetime Value','Marital Status']].groupby('Marital Status')\n",
    "Married = MaritalStatus['Customer Lifetime Value'].get_group('Married')\n",
    "Single = MaritalStatus['Customer Lifetime Value'].get_group('Single')\n",
    "Divorced = MaritalStatus['Customer Lifetime Value'].get_group('Divorced')"
   ]
  },
  {
   "cell_type": "code",
   "execution_count": null,
   "metadata": {
    "id": "cTQ_ccctSXAg",
    "outputId": "283280b8-ca03-4d7e-bf73-8a784f426a46"
   },
   "outputs": [
    {
     "name": "stdout",
     "output_type": "stream",
     "text": [
      "NormaltestResult(statistic=3677.216857754807, pvalue=0.0) \n",
      "\n",
      "NormaltestResult(statistic=1721.914498898464, pvalue=0.0) \n",
      "\n",
      "NormaltestResult(statistic=680.597010523175, pvalue=1.6226952503119905e-148) \n",
      "\n"
     ]
    }
   ],
   "source": [
    "for i in [Married,Single,Divorced]:\n",
    "    print(normaltest(i),'\\n')"
   ]
  },
  {
   "cell_type": "markdown",
   "metadata": {
    "id": "9xWuPt0lSXAh"
   },
   "source": [
    "CLV of all the categories of 'Location Code' follow a normal distribution. Hence, we can perform ANOVA test."
   ]
  },
  {
   "cell_type": "code",
   "execution_count": null,
   "metadata": {
    "id": "1EOKEMzvSXAh",
    "outputId": "ab5e3bbe-aa13-4d0f-bf32-bf33328fdbef"
   },
   "outputs": [
    {
     "data": {
      "text/plain": [
       "F_onewayResult(statistic=3.317664937589139, pvalue=0.036281036735873)"
      ]
     },
     "execution_count": 79,
     "metadata": {},
     "output_type": "execute_result"
    }
   ],
   "source": [
    "f_oneway(Married,Single,Divorced)"
   ]
  },
  {
   "cell_type": "markdown",
   "metadata": {
    "id": "9N883jTISXAh"
   },
   "source": [
    "MEANS ARE NOT SAME Marital Status\n",
    "\n",
    "pvalue < 0.05 implies that there is significant difference in the mean of target variable for at least on Group of 'Marital Status' which means 'Marital Status' feature can be significant for predicting 'Customer Lifetime Value'\n"
   ]
  },
  {
   "cell_type": "markdown",
   "metadata": {
    "id": "lh14diulSXAh"
   },
   "source": [
    "#### Policy vs Customer Lifetime Value"
   ]
  },
  {
   "cell_type": "code",
   "execution_count": null,
   "metadata": {
    "id": "cE5C4fxzSXAh"
   },
   "outputs": [],
   "source": [
    "Policy  = data[['Customer Lifetime Value','Policy']].groupby('Policy')\n",
    "p3 = Policy['Customer Lifetime Value'].get_group('Personal L3')\n",
    "p2 = Policy['Customer Lifetime Value'].get_group('Personal L2')\n",
    "p1 = Policy['Customer Lifetime Value'].get_group('Personal L1')\n",
    "c3 = Policy['Customer Lifetime Value'].get_group('Corporate L3')\n",
    "c2 = Policy['Customer Lifetime Value'].get_group('Corporate L2')\n",
    "c1 = Policy['Customer Lifetime Value'].get_group('Corporate L1')\n",
    "s3 = Policy['Customer Lifetime Value'].get_group('Special L3')\n",
    "s2 = Policy['Customer Lifetime Value'].get_group('Special L2')\n",
    "s1 = Policy['Customer Lifetime Value'].get_group('Special L1')"
   ]
  },
  {
   "cell_type": "code",
   "execution_count": null,
   "metadata": {
    "id": "h-1v-Ow2SXAh",
    "outputId": "f156de85-c45c-445c-a258-b4a56ccbc3ae"
   },
   "outputs": [
    {
     "name": "stdout",
     "output_type": "stream",
     "text": [
      "NormaltestResult(statistic=2454.8806553250483, pvalue=0.0) \n",
      "\n",
      "NormaltestResult(statistic=1239.8942061958492, pvalue=5.7596229383194274e-270) \n",
      "\n",
      "NormaltestResult(statistic=992.9674497188381, pvalue=2.3980483698011588e-216) \n",
      "\n",
      "NormaltestResult(statistic=605.9012411656124, pvalue=2.6928811836326553e-132) \n",
      "\n",
      "NormaltestResult(statistic=373.09668872516477, pvalue=9.617970377316392e-82) \n",
      "\n",
      "NormaltestResult(statistic=187.8953648881132, pvalue=1.5813934182974064e-41) \n",
      "\n",
      "NormaltestResult(statistic=81.04251038237228, pvalue=2.52256560971873e-18) \n",
      "\n",
      "NormaltestResult(statistic=98.75159886489641, pvalue=3.6004995993148485e-22) \n",
      "\n",
      "NormaltestResult(statistic=19.415176797916622, pvalue=6.0820211456712794e-05) \n",
      "\n"
     ]
    }
   ],
   "source": [
    "for i in [p3,p2,p1,c3,c2,c1,s3,s2,s1]:\n",
    "    print(normaltest(i),'\\n')"
   ]
  },
  {
   "cell_type": "code",
   "execution_count": null,
   "metadata": {
    "id": "AZ7CStLOSXAh",
    "outputId": "921aeaba-2bb5-4cb2-fd6e-9d5c9b5a569d"
   },
   "outputs": [
    {
     "data": {
      "text/plain": [
       "F_onewayResult(statistic=1.1839990669675131, pvalue=0.3041951364145143)"
      ]
     },
     "execution_count": 82,
     "metadata": {},
     "output_type": "execute_result"
    }
   ],
   "source": [
    "f_oneway(p3,p2,p1,c3,c2,c1,s3,s2,s1)"
   ]
  },
  {
   "cell_type": "markdown",
   "metadata": {
    "id": "1tbwMAiySXAh"
   },
   "source": [
    "#### Renew Offer Type vs Customer Lifetime Value"
   ]
  },
  {
   "cell_type": "code",
   "execution_count": null,
   "metadata": {
    "id": "586xS0g6SXAh"
   },
   "outputs": [],
   "source": [
    "R  = data[['Customer Lifetime Value','Renew Offer Type']].groupby('Renew Offer Type')\n",
    "o1 = R['Customer Lifetime Value'].get_group('Offer1')\n",
    "o2 = R['Customer Lifetime Value'].get_group('Offer2')\n",
    "o3 = R['Customer Lifetime Value'].get_group('Offer3')\n",
    "o4 = R['Customer Lifetime Value'].get_group('Offer4')"
   ]
  },
  {
   "cell_type": "code",
   "execution_count": null,
   "metadata": {
    "id": "5mcB7ZbRSXAh",
    "outputId": "950a6c01-9a4d-44d2-b3bf-623bdb240863"
   },
   "outputs": [
    {
     "name": "stdout",
     "output_type": "stream",
     "text": [
      "NormaltestResult(statistic=2617.6948383126864, pvalue=0.0) \n",
      "\n",
      "NormaltestResult(statistic=1936.9308789084942, pvalue=0.0) \n",
      "\n",
      "NormaltestResult(statistic=815.8559270625346, pvalue=6.904566619974463e-178) \n",
      "\n",
      "NormaltestResult(statistic=642.2059295134014, pvalue=3.5217156184052177e-140) \n",
      "\n"
     ]
    }
   ],
   "source": [
    "for i in [o1,o2,o3,o4]:\n",
    "    print(normaltest(i),'\\n')"
   ]
  },
  {
   "cell_type": "code",
   "execution_count": null,
   "metadata": {
    "id": "8p366sc2SXAh",
    "outputId": "4ebc0fbb-d48b-463e-cb6e-2309eaa03c95"
   },
   "outputs": [
    {
     "data": {
      "text/plain": [
       "F_onewayResult(statistic=25.83261444494041, pvalue=1.238399930571374e-16)"
      ]
     },
     "execution_count": 85,
     "metadata": {},
     "output_type": "execute_result"
    }
   ],
   "source": [
    "f_oneway(o1,o2,o3,o4)"
   ]
  },
  {
   "cell_type": "markdown",
   "metadata": {
    "id": "vu4vgW6BSXAh"
   },
   "source": [
    "#### Sales Channel vs Customer Lifetime Value"
   ]
  },
  {
   "cell_type": "code",
   "execution_count": null,
   "metadata": {
    "id": "6j5eT3f9SXAh"
   },
   "outputs": [],
   "source": [
    "Sales  = data[['Customer Lifetime Value','Sales Channel']].groupby('Sales Channel')\n",
    "agent = Sales['Customer Lifetime Value'].get_group('Agent')\n",
    "branch = Sales['Customer Lifetime Value'].get_group('Branch')\n",
    "call = Sales['Customer Lifetime Value'].get_group('Call Center')\n",
    "web = Sales['Customer Lifetime Value'].get_group('Web')"
   ]
  },
  {
   "cell_type": "code",
   "execution_count": null,
   "metadata": {
    "id": "A0e-cTW5SXAh",
    "outputId": "a5c6bbf1-9371-4849-cd47-f78fbe1c35e9"
   },
   "outputs": [
    {
     "name": "stdout",
     "output_type": "stream",
     "text": [
      "NormaltestResult(statistic=2249.8117586071908, pvalue=0.0) \n",
      "\n",
      "NormaltestResult(statistic=1778.5170859072064, pvalue=0.0) \n",
      "\n",
      "NormaltestResult(statistic=1209.3339649106563, pvalue=2.4915300560589623e-263) \n",
      "\n",
      "NormaltestResult(statistic=866.0244616685382, pvalue=8.814091447361906e-189) \n",
      "\n"
     ]
    }
   ],
   "source": [
    "for i in [agent,branch,call,web]:\n",
    "    print(normaltest(i),'\\n')"
   ]
  },
  {
   "cell_type": "code",
   "execution_count": null,
   "metadata": {
    "id": "ZpPFeYEASXAh",
    "outputId": "b6b1fd5c-668a-4652-f0f6-a41cba1652f3"
   },
   "outputs": [
    {
     "data": {
      "text/plain": [
       "F_onewayResult(statistic=0.8805454785276248, pvalue=0.4502779502550758)"
      ]
     },
     "execution_count": 88,
     "metadata": {},
     "output_type": "execute_result"
    }
   ],
   "source": [
    "f_oneway(agent,branch,call,web)"
   ]
  },
  {
   "cell_type": "markdown",
   "metadata": {
    "id": "vcbgZ3w5SXAh"
   },
   "source": [
    "#### Vehicle Class vs Customer Lifetime Value"
   ]
  },
  {
   "cell_type": "code",
   "execution_count": null,
   "metadata": {
    "id": "XcwyRsYWSXAi"
   },
   "outputs": [],
   "source": [
    "VC  = data[['Customer Lifetime Value','Vehicle Class']].groupby('Vehicle Class')\n",
    "fd = VC['Customer Lifetime Value'].get_group('Four-Door Car')\n",
    "td = VC['Customer Lifetime Value'].get_group('Two-Door Car')\n",
    "suv = VC['Customer Lifetime Value'].get_group('SUV')\n",
    "sc = VC['Customer Lifetime Value'].get_group('Sports Car')\n",
    "ls = VC['Customer Lifetime Value'].get_group('Luxury SUV')\n",
    "lc = VC['Customer Lifetime Value'].get_group('Luxury Car')"
   ]
  },
  {
   "cell_type": "code",
   "execution_count": null,
   "metadata": {
    "id": "5qutsr4WSXAi",
    "outputId": "a6e3aa1f-6b5c-4435-a2fb-f13930417068"
   },
   "outputs": [
    {
     "name": "stdout",
     "output_type": "stream",
     "text": [
      "NormaltestResult(statistic=2591.5563098196517, pvalue=0.0) \n",
      "\n",
      "NormaltestResult(statistic=967.8795815175732, pvalue=6.723869874448458e-211) \n",
      "\n",
      "NormaltestResult(statistic=911.8062937987764, pvalue=1.0087394816479343e-198) \n",
      "\n",
      "NormaltestResult(statistic=256.8651916324882, pvalue=1.6689077848613138e-56) \n",
      "\n",
      "NormaltestResult(statistic=93.79133396550114, pvalue=4.300021273979593e-21) \n",
      "\n",
      "NormaltestResult(statistic=112.96534867020267, pvalue=2.9504360994555045e-25) \n",
      "\n"
     ]
    }
   ],
   "source": [
    "for i in [fd,td,suv,sc,ls,lc]:\n",
    "    print(normaltest(i),'\\n')"
   ]
  },
  {
   "cell_type": "code",
   "execution_count": null,
   "metadata": {
    "id": "udtz0WmmSXAi",
    "outputId": "e6df8a04-a0e7-4d3b-882e-f57ef6c4f8f5"
   },
   "outputs": [
    {
     "data": {
      "text/plain": [
       "F_onewayResult(statistic=267.1581168024349, pvalue=2.085525760212929e-267)"
      ]
     },
     "execution_count": 91,
     "metadata": {},
     "output_type": "execute_result"
    }
   ],
   "source": [
    "f_oneway(fd,td,suv,sc,ls,lc)"
   ]
  },
  {
   "cell_type": "markdown",
   "metadata": {
    "id": "1_BuMeNYSXAi"
   },
   "source": [
    "#### Vehicle Size vs Customer Lifetime Value"
   ]
  },
  {
   "cell_type": "code",
   "execution_count": null,
   "metadata": {
    "id": "Tc5u0WUASXAi"
   },
   "outputs": [],
   "source": [
    "VS  = data[['Customer Lifetime Value','Vehicle Size']].groupby('Vehicle Size')\n",
    "m = VS['Customer Lifetime Value'].get_group('Medsize')\n",
    "s = VS['Customer Lifetime Value'].get_group('Small')\n",
    "l = VS['Customer Lifetime Value'].get_group('Large')"
   ]
  },
  {
   "cell_type": "code",
   "execution_count": null,
   "metadata": {
    "id": "6v-90TH-SXAi",
    "outputId": "8ca34bb8-1308-4dff-b196-964eb9374c34"
   },
   "outputs": [
    {
     "name": "stdout",
     "output_type": "stream",
     "text": [
      "NormaltestResult(statistic=4107.297603156226, pvalue=0.0) \n",
      "\n",
      "NormaltestResult(statistic=1277.51103714535, pvalue=3.908435944085235e-278) \n",
      "\n",
      "NormaltestResult(statistic=710.5562496753278, pvalue=5.066065984237427e-155) \n",
      "\n"
     ]
    }
   ],
   "source": [
    "for i in [m,s,l]:\n",
    "    print(normaltest(i),'\\n')"
   ]
  },
  {
   "cell_type": "code",
   "execution_count": null,
   "metadata": {
    "id": "9IUYEmBJSXAi",
    "outputId": "0e50d5e8-516f-4540-8882-fadb4d738561"
   },
   "outputs": [
    {
     "data": {
      "text/plain": [
       "F_onewayResult(statistic=2.382494601032998, pvalue=0.09237737701331775)"
      ]
     },
     "execution_count": 94,
     "metadata": {},
     "output_type": "execute_result"
    }
   ],
   "source": [
    "f_oneway(m,s,l)"
   ]
  },
  {
   "cell_type": "markdown",
   "metadata": {
    "id": "t-WXlQ2aSXAi"
   },
   "source": [
    "### Furthur Modelling:\n",
    "\n",
    "#### So we did the EDA and also the Statistical Analysis, so now we can just dis regard the features which we are not significant  for our model."
   ]
  },
  {
   "cell_type": "code",
   "execution_count": null,
   "metadata": {
    "id": "SkfzZxbXSXAi"
   },
   "outputs": [],
   "source": [
    "data.drop(['State','Customer','Response','EmploymentStatus','Gender','Location Code','Vehicle Size','Policy','Policy Type','Sales Channel','Income','Effective To Date','Education'],axis=1,inplace = True)"
   ]
  },
  {
   "cell_type": "code",
   "execution_count": null,
   "metadata": {
    "id": "s_yEYf9gSXAi",
    "outputId": "93a5bfd2-abfe-4248-dc5c-1475c3339186"
   },
   "outputs": [
    {
     "data": {
      "text/html": [
       "<div>\n",
       "<style scoped>\n",
       "    .dataframe tbody tr th:only-of-type {\n",
       "        vertical-align: middle;\n",
       "    }\n",
       "\n",
       "    .dataframe tbody tr th {\n",
       "        vertical-align: top;\n",
       "    }\n",
       "\n",
       "    .dataframe thead th {\n",
       "        text-align: right;\n",
       "    }\n",
       "</style>\n",
       "<table border=\"1\" class=\"dataframe\">\n",
       "  <thead>\n",
       "    <tr style=\"text-align: right;\">\n",
       "      <th></th>\n",
       "      <th>Customer Lifetime Value</th>\n",
       "      <th>Coverage</th>\n",
       "      <th>Marital Status</th>\n",
       "      <th>Monthly Premium Auto</th>\n",
       "      <th>Months Since Last Claim</th>\n",
       "      <th>Months Since Policy Inception</th>\n",
       "      <th>Number of Open Complaints</th>\n",
       "      <th>Number of Policies</th>\n",
       "      <th>Renew Offer Type</th>\n",
       "      <th>Total Claim Amount</th>\n",
       "      <th>Vehicle Class</th>\n",
       "    </tr>\n",
       "  </thead>\n",
       "  <tbody>\n",
       "    <tr>\n",
       "      <th>0</th>\n",
       "      <td>2763.519279</td>\n",
       "      <td>Basic</td>\n",
       "      <td>Married</td>\n",
       "      <td>69</td>\n",
       "      <td>32</td>\n",
       "      <td>5</td>\n",
       "      <td>0</td>\n",
       "      <td>1</td>\n",
       "      <td>Offer1</td>\n",
       "      <td>384.811147</td>\n",
       "      <td>Two-Door Car</td>\n",
       "    </tr>\n",
       "    <tr>\n",
       "      <th>1</th>\n",
       "      <td>6979.535903</td>\n",
       "      <td>Extended</td>\n",
       "      <td>Single</td>\n",
       "      <td>94</td>\n",
       "      <td>13</td>\n",
       "      <td>42</td>\n",
       "      <td>0</td>\n",
       "      <td>8</td>\n",
       "      <td>Offer3</td>\n",
       "      <td>1131.464935</td>\n",
       "      <td>Four-Door Car</td>\n",
       "    </tr>\n",
       "    <tr>\n",
       "      <th>2</th>\n",
       "      <td>12887.431650</td>\n",
       "      <td>Premium</td>\n",
       "      <td>Married</td>\n",
       "      <td>108</td>\n",
       "      <td>18</td>\n",
       "      <td>38</td>\n",
       "      <td>0</td>\n",
       "      <td>2</td>\n",
       "      <td>Offer1</td>\n",
       "      <td>566.472247</td>\n",
       "      <td>Two-Door Car</td>\n",
       "    </tr>\n",
       "    <tr>\n",
       "      <th>3</th>\n",
       "      <td>7645.861827</td>\n",
       "      <td>Basic</td>\n",
       "      <td>Married</td>\n",
       "      <td>106</td>\n",
       "      <td>18</td>\n",
       "      <td>65</td>\n",
       "      <td>0</td>\n",
       "      <td>7</td>\n",
       "      <td>Offer1</td>\n",
       "      <td>529.881344</td>\n",
       "      <td>SUV</td>\n",
       "    </tr>\n",
       "    <tr>\n",
       "      <th>4</th>\n",
       "      <td>2813.692575</td>\n",
       "      <td>Basic</td>\n",
       "      <td>Single</td>\n",
       "      <td>73</td>\n",
       "      <td>12</td>\n",
       "      <td>44</td>\n",
       "      <td>0</td>\n",
       "      <td>1</td>\n",
       "      <td>Offer1</td>\n",
       "      <td>138.130879</td>\n",
       "      <td>Four-Door Car</td>\n",
       "    </tr>\n",
       "  </tbody>\n",
       "</table>\n",
       "</div>"
      ],
      "text/plain": [
       "   Customer Lifetime Value  Coverage Marital Status  Monthly Premium Auto  \\\n",
       "0              2763.519279     Basic        Married                    69   \n",
       "1              6979.535903  Extended         Single                    94   \n",
       "2             12887.431650   Premium        Married                   108   \n",
       "3              7645.861827     Basic        Married                   106   \n",
       "4              2813.692575     Basic         Single                    73   \n",
       "\n",
       "   Months Since Last Claim  Months Since Policy Inception  \\\n",
       "0                       32                              5   \n",
       "1                       13                             42   \n",
       "2                       18                             38   \n",
       "3                       18                             65   \n",
       "4                       12                             44   \n",
       "\n",
       "   Number of Open Complaints  Number of Policies Renew Offer Type  \\\n",
       "0                          0                   1           Offer1   \n",
       "1                          0                   8           Offer3   \n",
       "2                          0                   2           Offer1   \n",
       "3                          0                   7           Offer1   \n",
       "4                          0                   1           Offer1   \n",
       "\n",
       "   Total Claim Amount  Vehicle Class  \n",
       "0          384.811147   Two-Door Car  \n",
       "1         1131.464935  Four-Door Car  \n",
       "2          566.472247   Two-Door Car  \n",
       "3          529.881344            SUV  \n",
       "4          138.130879  Four-Door Car  "
      ]
     },
     "execution_count": 96,
     "metadata": {},
     "output_type": "execute_result"
    }
   ],
   "source": [
    "data.head()"
   ]
  },
  {
   "cell_type": "markdown",
   "metadata": {
    "id": "iUgC2PtZSXAi"
   },
   "source": [
    "Though the features, months since policy inception, months since last claim, number of open complaints and number of policies are all numerical, but they are discrete numbers and we will consider them as categorical features while preparing the model.\n",
    "\n",
    "Firstly, according to our EDA, we saw that the number of policies >= 3 have similar trend so we will group all of them as 3"
   ]
  },
  {
   "cell_type": "code",
   "execution_count": null,
   "metadata": {
    "id": "kCTdmRjbSXAi"
   },
   "outputs": [],
   "source": [
    "data['Number of Policies'] = np.where(data['Number of Policies']>2,3,data['Number of Policies'])"
   ]
  },
  {
   "cell_type": "markdown",
   "metadata": {
    "id": "9Kg-8P96SXAi"
   },
   "source": [
    "Secondly, when we convert the numerical features to categorical, our normal practice is label encoding for ordinal data and one hot for nominal data, but we can also use one hot encoding for ordinal data if there isn't any curse of dimensionality, so we will convert the categorical to numerical with one-hot encoding / dummification."
   ]
  },
  {
   "cell_type": "code",
   "execution_count": null,
   "metadata": {
    "id": "eJ8R75NuSXAi"
   },
   "outputs": [],
   "source": [
    "new = pd.get_dummies(data,columns=['Coverage','Marital Status','Number of Policies','Renew Offer Type','Vehicle Class'],drop_first=True)"
   ]
  },
  {
   "cell_type": "code",
   "execution_count": null,
   "metadata": {
    "id": "QNpe0zCRSXAi",
    "outputId": "a2926be1-c0e8-4e63-9f5f-6e391807ff20"
   },
   "outputs": [
    {
     "data": {
      "text/html": [
       "<div>\n",
       "<style scoped>\n",
       "    .dataframe tbody tr th:only-of-type {\n",
       "        vertical-align: middle;\n",
       "    }\n",
       "\n",
       "    .dataframe tbody tr th {\n",
       "        vertical-align: top;\n",
       "    }\n",
       "\n",
       "    .dataframe thead th {\n",
       "        text-align: right;\n",
       "    }\n",
       "</style>\n",
       "<table border=\"1\" class=\"dataframe\">\n",
       "  <thead>\n",
       "    <tr style=\"text-align: right;\">\n",
       "      <th></th>\n",
       "      <th>Customer Lifetime Value</th>\n",
       "      <th>Monthly Premium Auto</th>\n",
       "      <th>Months Since Last Claim</th>\n",
       "      <th>Months Since Policy Inception</th>\n",
       "      <th>Number of Open Complaints</th>\n",
       "      <th>Total Claim Amount</th>\n",
       "      <th>Coverage_Extended</th>\n",
       "      <th>Coverage_Premium</th>\n",
       "      <th>Marital Status_Married</th>\n",
       "      <th>Marital Status_Single</th>\n",
       "      <th>Number of Policies_2</th>\n",
       "      <th>Number of Policies_3</th>\n",
       "      <th>Renew Offer Type_Offer2</th>\n",
       "      <th>Renew Offer Type_Offer3</th>\n",
       "      <th>Renew Offer Type_Offer4</th>\n",
       "      <th>Vehicle Class_Luxury Car</th>\n",
       "      <th>Vehicle Class_Luxury SUV</th>\n",
       "      <th>Vehicle Class_SUV</th>\n",
       "      <th>Vehicle Class_Sports Car</th>\n",
       "      <th>Vehicle Class_Two-Door Car</th>\n",
       "    </tr>\n",
       "  </thead>\n",
       "  <tbody>\n",
       "    <tr>\n",
       "      <th>0</th>\n",
       "      <td>2763.519279</td>\n",
       "      <td>69</td>\n",
       "      <td>32</td>\n",
       "      <td>5</td>\n",
       "      <td>0</td>\n",
       "      <td>384.811147</td>\n",
       "      <td>0</td>\n",
       "      <td>0</td>\n",
       "      <td>1</td>\n",
       "      <td>0</td>\n",
       "      <td>0</td>\n",
       "      <td>0</td>\n",
       "      <td>0</td>\n",
       "      <td>0</td>\n",
       "      <td>0</td>\n",
       "      <td>0</td>\n",
       "      <td>0</td>\n",
       "      <td>0</td>\n",
       "      <td>0</td>\n",
       "      <td>1</td>\n",
       "    </tr>\n",
       "    <tr>\n",
       "      <th>1</th>\n",
       "      <td>6979.535903</td>\n",
       "      <td>94</td>\n",
       "      <td>13</td>\n",
       "      <td>42</td>\n",
       "      <td>0</td>\n",
       "      <td>1131.464935</td>\n",
       "      <td>1</td>\n",
       "      <td>0</td>\n",
       "      <td>0</td>\n",
       "      <td>1</td>\n",
       "      <td>0</td>\n",
       "      <td>1</td>\n",
       "      <td>0</td>\n",
       "      <td>1</td>\n",
       "      <td>0</td>\n",
       "      <td>0</td>\n",
       "      <td>0</td>\n",
       "      <td>0</td>\n",
       "      <td>0</td>\n",
       "      <td>0</td>\n",
       "    </tr>\n",
       "    <tr>\n",
       "      <th>2</th>\n",
       "      <td>12887.431650</td>\n",
       "      <td>108</td>\n",
       "      <td>18</td>\n",
       "      <td>38</td>\n",
       "      <td>0</td>\n",
       "      <td>566.472247</td>\n",
       "      <td>0</td>\n",
       "      <td>1</td>\n",
       "      <td>1</td>\n",
       "      <td>0</td>\n",
       "      <td>1</td>\n",
       "      <td>0</td>\n",
       "      <td>0</td>\n",
       "      <td>0</td>\n",
       "      <td>0</td>\n",
       "      <td>0</td>\n",
       "      <td>0</td>\n",
       "      <td>0</td>\n",
       "      <td>0</td>\n",
       "      <td>1</td>\n",
       "    </tr>\n",
       "    <tr>\n",
       "      <th>3</th>\n",
       "      <td>7645.861827</td>\n",
       "      <td>106</td>\n",
       "      <td>18</td>\n",
       "      <td>65</td>\n",
       "      <td>0</td>\n",
       "      <td>529.881344</td>\n",
       "      <td>0</td>\n",
       "      <td>0</td>\n",
       "      <td>1</td>\n",
       "      <td>0</td>\n",
       "      <td>0</td>\n",
       "      <td>1</td>\n",
       "      <td>0</td>\n",
       "      <td>0</td>\n",
       "      <td>0</td>\n",
       "      <td>0</td>\n",
       "      <td>0</td>\n",
       "      <td>1</td>\n",
       "      <td>0</td>\n",
       "      <td>0</td>\n",
       "    </tr>\n",
       "    <tr>\n",
       "      <th>4</th>\n",
       "      <td>2813.692575</td>\n",
       "      <td>73</td>\n",
       "      <td>12</td>\n",
       "      <td>44</td>\n",
       "      <td>0</td>\n",
       "      <td>138.130879</td>\n",
       "      <td>0</td>\n",
       "      <td>0</td>\n",
       "      <td>0</td>\n",
       "      <td>1</td>\n",
       "      <td>0</td>\n",
       "      <td>0</td>\n",
       "      <td>0</td>\n",
       "      <td>0</td>\n",
       "      <td>0</td>\n",
       "      <td>0</td>\n",
       "      <td>0</td>\n",
       "      <td>0</td>\n",
       "      <td>0</td>\n",
       "      <td>0</td>\n",
       "    </tr>\n",
       "  </tbody>\n",
       "</table>\n",
       "</div>"
      ],
      "text/plain": [
       "   Customer Lifetime Value  Monthly Premium Auto  Months Since Last Claim  \\\n",
       "0              2763.519279                    69                       32   \n",
       "1              6979.535903                    94                       13   \n",
       "2             12887.431650                   108                       18   \n",
       "3              7645.861827                   106                       18   \n",
       "4              2813.692575                    73                       12   \n",
       "\n",
       "   Months Since Policy Inception  Number of Open Complaints  \\\n",
       "0                              5                          0   \n",
       "1                             42                          0   \n",
       "2                             38                          0   \n",
       "3                             65                          0   \n",
       "4                             44                          0   \n",
       "\n",
       "   Total Claim Amount  Coverage_Extended  Coverage_Premium  \\\n",
       "0          384.811147                  0                 0   \n",
       "1         1131.464935                  1                 0   \n",
       "2          566.472247                  0                 1   \n",
       "3          529.881344                  0                 0   \n",
       "4          138.130879                  0                 0   \n",
       "\n",
       "   Marital Status_Married  Marital Status_Single  Number of Policies_2  \\\n",
       "0                       1                      0                     0   \n",
       "1                       0                      1                     0   \n",
       "2                       1                      0                     1   \n",
       "3                       1                      0                     0   \n",
       "4                       0                      1                     0   \n",
       "\n",
       "   Number of Policies_3  Renew Offer Type_Offer2  Renew Offer Type_Offer3  \\\n",
       "0                     0                        0                        0   \n",
       "1                     1                        0                        1   \n",
       "2                     0                        0                        0   \n",
       "3                     1                        0                        0   \n",
       "4                     0                        0                        0   \n",
       "\n",
       "   Renew Offer Type_Offer4  Vehicle Class_Luxury Car  \\\n",
       "0                        0                         0   \n",
       "1                        0                         0   \n",
       "2                        0                         0   \n",
       "3                        0                         0   \n",
       "4                        0                         0   \n",
       "\n",
       "   Vehicle Class_Luxury SUV  Vehicle Class_SUV  Vehicle Class_Sports Car  \\\n",
       "0                         0                  0                         0   \n",
       "1                         0                  0                         0   \n",
       "2                         0                  0                         0   \n",
       "3                         0                  1                         0   \n",
       "4                         0                  0                         0   \n",
       "\n",
       "   Vehicle Class_Two-Door Car  \n",
       "0                           1  \n",
       "1                           0  \n",
       "2                           1  \n",
       "3                           0  \n",
       "4                           0  "
      ]
     },
     "execution_count": 99,
     "metadata": {},
     "output_type": "execute_result"
    }
   ],
   "source": [
    "new.head()"
   ]
  },
  {
   "cell_type": "markdown",
   "metadata": {
    "id": "ChdXsvjLSXAi"
   },
   "source": [
    "### Spliting the data into train(70) and test(30)"
   ]
  },
  {
   "cell_type": "code",
   "execution_count": null,
   "metadata": {
    "id": "fJU8j0CnSXAi"
   },
   "outputs": [],
   "source": [
    "X = new.drop('Customer Lifetime Value',axis=1)\n",
    "y = new['Customer Lifetime Value']"
   ]
  },
  {
   "cell_type": "code",
   "execution_count": null,
   "metadata": {
    "id": "T-MiQUDKSXAj"
   },
   "outputs": [],
   "source": [
    "X_train,X_test,y_train,y_test = train_test_split(X,y,test_size=0.3,random_state=100)"
   ]
  },
  {
   "cell_type": "code",
   "execution_count": null,
   "metadata": {
    "id": "9uh5QYm5SXAj",
    "outputId": "91e538ec-605e-44aa-d9fb-fca3401ef97a"
   },
   "outputs": [
    {
     "data": {
      "text/plain": [
       "LinearRegression(copy_X=True, fit_intercept=True, n_jobs=None, normalize=False)"
      ]
     },
     "execution_count": 102,
     "metadata": {},
     "output_type": "execute_result"
    }
   ],
   "source": [
    "lr.fit(X_train,y_train)"
   ]
  },
  {
   "cell_type": "code",
   "execution_count": null,
   "metadata": {
    "id": "i2o0x9kiSXAj",
    "outputId": "d5d80c30-49f4-436a-bb7f-7ce0d59c3895"
   },
   "outputs": [
    {
     "data": {
      "text/plain": [
       "0.6229090552681669"
      ]
     },
     "execution_count": 103,
     "metadata": {},
     "output_type": "execute_result"
    }
   ],
   "source": [
    "lr.score(X_test,y_test)"
   ]
  },
  {
   "cell_type": "code",
   "execution_count": null,
   "metadata": {
    "id": "NlNtL8a_SXAj",
    "outputId": "63bbdcbb-aa29-4a4a-9b4a-933e3b766739"
   },
   "outputs": [
    {
     "data": {
      "text/plain": [
       "0.6389753771298572"
      ]
     },
     "execution_count": 104,
     "metadata": {},
     "output_type": "execute_result"
    }
   ],
   "source": [
    "lr.score(X_train,y_train)"
   ]
  },
  {
   "cell_type": "markdown",
   "metadata": {
    "id": "sXTmv9amSXAj"
   },
   "source": [
    "So after removing the unnessary feature's our model is giving is an accuracy of about 60%, we would like to take it 70% in the furthur models."
   ]
  },
  {
   "cell_type": "markdown",
   "metadata": {
    "id": "BhoUMD8wSXAj"
   },
   "source": [
    "### Feature Selection-Forward, Backward\n",
    "#### Forward"
   ]
  },
  {
   "cell_type": "code",
   "execution_count": null,
   "metadata": {
    "id": "3DgLSvGoSXAj",
    "outputId": "6ad78bf5-e37d-4425-a151-01a05ffd6cfc"
   },
   "outputs": [
    {
     "data": {
      "image/png": "[encoded data removed]",
      "text/plain": [
       "<Figure size 432x288 with 1 Axes>"
      ]
     },
     "metadata": {
      "needs_background": "light"
     },
     "output_type": "display_data"
    }
   ],
   "source": [
    "sfs = SFS(lr, k_features='best', forward=True, floating=False, \n",
    "          scoring='neg_mean_squared_error', cv=20)\n",
    "model = sfs.fit(new.drop('Customer Lifetime Value', axis=1),new['Customer Lifetime Value'])\n",
    "fig = plot_sfs(sfs.get_metric_dict(), kind='std_err')\n",
    "plt.title('Sequential Forward Selection (w. StdErr)')\n",
    "plt.grid()\n",
    "plt.show()"
   ]
  },
  {
   "cell_type": "code",
   "execution_count": null,
   "metadata": {
    "id": "cCbLtnvmSXAj",
    "outputId": "e81bebf7-546d-4ce9-cf26-93ccf03b2387"
   },
   "outputs": [
    {
     "name": "stdout",
     "output_type": "stream",
     "text": [
      "Selected features: (0, 3, 4, 6, 8, 9, 10, 11, 16, 17)\n"
     ]
    }
   ],
   "source": [
    "print('Selected features:', sfs.k_feature_idx_)"
   ]
  },
  {
   "cell_type": "markdown",
   "metadata": {
    "id": "kgmDWnNxSXAj"
   },
   "source": [
    "#### Backward"
   ]
  },
  {
   "cell_type": "code",
   "execution_count": null,
   "metadata": {
    "id": "e8ECKNpZSXAj",
    "outputId": "aa513d76-0da1-4792-ce22-f47d2b4d4cf7"
   },
   "outputs": [
    {
     "data": {
      "image/png": "[encoded data removed]",
      "text/plain": [
       "<Figure size 432x288 with 1 Axes>"
      ]
     },
     "metadata": {
      "needs_background": "light"
     },
     "output_type": "display_data"
    }
   ],
   "source": [
    "sfs = SFS(lr, k_features='best', forward=False, floating=False, \n",
    "          scoring='neg_mean_squared_error', cv=20)\n",
    "model = sfs.fit(new.drop('Customer Lifetime Value', axis=1).values,new['Customer Lifetime Value'])\n",
    "fig = plot_sfs(sfs.get_metric_dict(), kind='std_err')\n",
    "plt.title('Sequential Backward Selection (w. StdErr)')\n",
    "plt.grid()\n",
    "plt.show()"
   ]
  },
  {
   "cell_type": "code",
   "execution_count": null,
   "metadata": {
    "id": "OlWVMTu2SXAj",
    "outputId": "58b20024-c7b6-451f-f82f-fc1920213367"
   },
   "outputs": [
    {
     "name": "stdout",
     "output_type": "stream",
     "text": [
      "Selected features: (0, 3, 4, 6, 8, 9, 10, 11, 16, 17)\n"
     ]
    }
   ],
   "source": [
    "print('Selected features:', sfs.k_feature_idx_)"
   ]
  },
  {
   "cell_type": "code",
   "execution_count": null,
   "metadata": {
    "id": "Ff2UkaT6SXAj",
    "outputId": "6449c553-d4f3-494d-b327-7e8990a61539"
   },
   "outputs": [
    {
     "data": {
      "text/plain": [
       "Index(['Monthly Premium Auto', 'Months Since Last Claim',\n",
       "       'Months Since Policy Inception', 'Number of Open Complaints',\n",
       "       'Total Claim Amount', 'Coverage_Extended', 'Coverage_Premium',\n",
       "       'Marital Status_Married', 'Marital Status_Single',\n",
       "       'Number of Policies_2', 'Number of Policies_3',\n",
       "       'Renew Offer Type_Offer2', 'Renew Offer Type_Offer3',\n",
       "       'Renew Offer Type_Offer4', 'Vehicle Class_Luxury Car',\n",
       "       'Vehicle Class_Luxury SUV', 'Vehicle Class_SUV',\n",
       "       'Vehicle Class_Sports Car', 'Vehicle Class_Two-Door Car'],\n",
       "      dtype='object')"
      ]
     },
     "execution_count": 109,
     "metadata": {},
     "output_type": "execute_result"
    }
   ],
   "source": [
    "X.columns"
   ]
  },
  {
   "cell_type": "markdown",
   "metadata": {
    "id": "21TP2K1WSXAj"
   },
   "source": [
    "Suprisingly Both the forward and backward selection gave us the same features to select for our model, so we will be sticking to the same features."
   ]
  },
  {
   "cell_type": "code",
   "execution_count": null,
   "metadata": {
    "id": "JBW-FAELSXAj"
   },
   "outputs": [],
   "source": [
    "test_X = X[['Monthly Premium Auto','Number of Open Complaints','Total Claim Amount','Coverage_Premium',\n",
    "            'Marital Status_Single','Number of Policies_2','Number of Policies_3',\n",
    "            'Renew Offer Type_Offer2','Vehicle Class_SUV','Vehicle Class_Sports Car']]"
   ]
  },
  {
   "cell_type": "code",
   "execution_count": null,
   "metadata": {
    "id": "XEXrlUg0SXAj"
   },
   "outputs": [],
   "source": [
    "train = []\n",
    "test = []"
   ]
  },
  {
   "cell_type": "code",
   "execution_count": null,
   "metadata": {
    "id": "2o81oK6lSXAj"
   },
   "outputs": [],
   "source": [
    "X_train,X_test,y_train,y_test = train_test_split(test_X,y,test_size=0.3,random_state=100)"
   ]
  },
  {
   "cell_type": "code",
   "execution_count": null,
   "metadata": {
    "id": "3NruHry2SXAk",
    "outputId": "682ac7dc-64dd-4d67-dc9f-35d98508b18c"
   },
   "outputs": [
    {
     "data": {
      "text/plain": [
       "LinearRegression(copy_X=True, fit_intercept=True, n_jobs=None, normalize=False)"
      ]
     },
     "execution_count": 113,
     "metadata": {},
     "output_type": "execute_result"
    }
   ],
   "source": [
    "lr.fit(X_train,y_train)"
   ]
  },
  {
   "cell_type": "code",
   "execution_count": null,
   "metadata": {
    "id": "KvY6qHgLSXAk"
   },
   "outputs": [],
   "source": [
    "test.append(lr.score(X_test,y_test))"
   ]
  },
  {
   "cell_type": "code",
   "execution_count": null,
   "metadata": {
    "id": "AsfxqOCuSXAk"
   },
   "outputs": [],
   "source": [
    "train.append(lr.score(X_train,y_train))"
   ]
  },
  {
   "cell_type": "markdown",
   "metadata": {
    "id": "bdyU6_jnSXAk"
   },
   "source": [
    "So we can clearly see that the features removed didn't contribute to tell us the differing variance in the data, so it was a good decision to remove those features"
   ]
  },
  {
   "cell_type": "code",
   "execution_count": null,
   "metadata": {
    "id": "uoDOBxNjSXAk"
   },
   "outputs": [],
   "source": [
    "metrics = [r2_score,mean_absolute_error,mean_absolute_percentage_error,mean_squared_error]"
   ]
  },
  {
   "cell_type": "code",
   "execution_count": null,
   "metadata": {
    "id": "uYUCmAhbSXAk"
   },
   "outputs": [],
   "source": [
    "y_pred = lr.predict(X_test)"
   ]
  },
  {
   "cell_type": "code",
   "execution_count": null,
   "metadata": {
    "id": "jYKhQEMTSXAk"
   },
   "outputs": [],
   "source": [
    "r2 = []\n",
    "mae = []\n",
    "mape = []\n",
    "mse = []"
   ]
  },
  {
   "cell_type": "code",
   "execution_count": null,
   "metadata": {
    "id": "KZGV2weRSXAk",
    "outputId": "ae4f62fa-f7ad-4577-fe3c-2d9e06b86028"
   },
   "outputs": [
    {
     "name": "stdout",
     "output_type": "stream",
     "text": [
      "0.6229724358599134\n",
      "2097.807348632866\n",
      "24.17860337907907\n",
      "18228661.804602843\n"
     ]
    }
   ],
   "source": [
    "for i in metrics:\n",
    "    print(i(y_test,y_pred))\n",
    "    if i == r2_score:\n",
    "        r2.append(i(y_test,y_pred))\n",
    "    elif i == mean_absolute_error:\n",
    "        mae.append(i(y_test,y_pred))\n",
    "    elif i == mean_absolute_percentage_error:\n",
    "        mape.append(i(y_test,y_pred))\n",
    "    else:\n",
    "        mse.append(i(y_test,y_pred))"
   ]
  },
  {
   "cell_type": "markdown",
   "metadata": {
    "id": "2Sd5kiUySXAk"
   },
   "source": [
    "We will consider the r2_Score and the Mean absolute percentage error as the metrics we are going to use to measure the model."
   ]
  },
  {
   "cell_type": "markdown",
   "metadata": {
    "id": "HL5UNWbzSXAk"
   },
   "source": [
    "### Finding the best sample by random state for each model."
   ]
  },
  {
   "cell_type": "code",
   "execution_count": null,
   "metadata": {
    "id": "ul0RA9nhSXAk"
   },
   "outputs": [],
   "source": [
    "algo = [abr,gbr,dt,et,etr,br,rfr]"
   ]
  },
  {
   "cell_type": "code",
   "execution_count": null,
   "metadata": {
    "id": "89b7lsv4SXAk",
    "outputId": "608d62b4-8680-4cdc-c9dc-ae6b788bb64d"
   },
   "outputs": [
    {
     "name": "stdout",
     "output_type": "stream",
     "text": [
      "New ModelAdaBoostRegressor(base_estimator=None, learning_rate=1.0, loss='linear',\n",
      "                  n_estimators=50, random_state=None)\n",
      "1 0.61763944834935 0.5290596511781978\n",
      "2 0.6026633124586771 0.5947986532718177\n",
      "4 0.5910850307162052 0.5988921825348192\n",
      "5 0.6159348238616618 0.6115591454337723\n",
      "16 0.6123030672297892 0.6218194092484409\n",
      "35 0.604301380284536 0.6356916966765893\n",
      "80 0.6053560427729863 0.6399880816765857\n",
      "New ModelGradientBoostingRegressor(alpha=0.9, criterion='friedman_mse', init=None,\n",
      "                          learning_rate=0.1, loss='ls', max_depth=3,\n",
      "                          max_features=None, max_leaf_nodes=None,\n",
      "                          min_impurity_decrease=0.0, min_impurity_split=None,\n",
      "                          min_samples_leaf=1, min_samples_split=2,\n",
      "                          min_weight_fraction_leaf=0.0, n_estimators=100,\n",
      "                          n_iter_no_change=None, presort='auto',\n",
      "                          random_state=None, subsample=1.0, tol=0.0001,\n",
      "                          validation_fraction=0.1, verbose=0, warm_start=False)\n",
      "1 0.7547309391180869 0.6562105847638406\n",
      "2 0.7397067584988828 0.6896895925504654\n",
      "4 0.737612916499981 0.6964511986630533\n",
      "35 0.7353567644257683 0.7041339141731613\n",
      "New ModelDecisionTreeRegressor(criterion='mse', max_depth=None, max_features=None,\n",
      "                      max_leaf_nodes=None, min_impurity_decrease=0.0,\n",
      "                      min_impurity_split=None, min_samples_leaf=1,\n",
      "                      min_samples_split=2, min_weight_fraction_leaf=0.0,\n",
      "                      presort=False, random_state=None, splitter='best')\n",
      "1 1.0 0.4473216855380193\n",
      "5 1.0 0.4604472191714941\n",
      "11 1.0 0.49502397875192483\n",
      "16 1.0 0.5027658876046033\n",
      "119 1.0 0.507778232737507\n",
      "126 1.0 0.5353051929436383\n",
      "243 1.0 0.5363754517980429\n",
      "New ModelExtraTreeRegressor(criterion='mse', max_depth=None, max_features='auto',\n",
      "                   max_leaf_nodes=None, min_impurity_decrease=0.0,\n",
      "                   min_impurity_split=None, min_samples_leaf=1,\n",
      "                   min_samples_split=2, min_weight_fraction_leaf=0.0,\n",
      "                   random_state=None, splitter='random')\n",
      "1 1.0 0.4000178970037211\n",
      "2 1.0 0.4827209929734666\n",
      "13 1.0 0.4971114838688172\n",
      "16 1.0 0.5046824875370477\n",
      "76 1.0 0.5251540156890941\n",
      "156 1.0 0.5263894330771153\n",
      "New ModelExtraTreesRegressor(bootstrap=False, criterion='mse', max_depth=None,\n",
      "                    max_features='auto', max_leaf_nodes=None,\n",
      "                    min_impurity_decrease=0.0, min_impurity_split=None,\n",
      "                    min_samples_leaf=1, min_samples_split=2,\n",
      "                    min_weight_fraction_leaf=0.0, n_estimators='warn',\n",
      "                    n_jobs=None, oob_score=False, random_state=None, verbose=0,\n",
      "                    warm_start=False)\n",
      "1 1.0 0.6290303043603095\n",
      "2 1.0 0.6406718651424385\n",
      "4 1.0 0.6559797451470679\n",
      "5 1.0 0.6606768331852164\n",
      "11 1.0 0.6634103768452034\n",
      "16 1.0 0.6705522765925779\n",
      "30 1.0 0.6716656743294738\n",
      "35 1.0 0.6944028423428977\n",
      "198 1.0 0.7009543520093517\n",
      "New ModelBaggingRegressor(base_estimator=None, bootstrap=True, bootstrap_features=False,\n",
      "                 max_features=1.0, max_samples=1.0, n_estimators=10,\n",
      "                 n_jobs=None, oob_score=False, random_state=None, verbose=0,\n",
      "                 warm_start=False)\n",
      "1 0.9435063910131241 0.6360468268218709\n",
      "2 0.9412520785124315 0.6830811944843282\n",
      "4 0.9397526474210118 0.6856616658915973\n",
      "10 0.940197131242052 0.6885396352376673\n",
      "16 0.9382567642422581 0.6909619999211298\n",
      "35 0.9375610404834425 0.7116269081402667\n",
      "New ModelRandomForestRegressor(bootstrap=True, criterion='mse', max_depth=None,\n",
      "                      max_features='auto', max_leaf_nodes=None,\n",
      "                      min_impurity_decrease=0.0, min_impurity_split=None,\n",
      "                      min_samples_leaf=1, min_samples_split=2,\n",
      "                      min_weight_fraction_leaf=0.0, n_estimators='warn',\n",
      "                      n_jobs=None, oob_score=False, random_state=None,\n",
      "                      verbose=0, warm_start=False)\n",
      "1 0.9455279256006534 0.6532782437528252\n",
      "2 0.9380340520678223 0.7119538906283964\n"
     ]
    }
   ],
   "source": [
    "for i in algo:\n",
    "    temp = 0\n",
    "    print(f\"New Model{i}\")\n",
    "    for j in range(1,300,1):\n",
    "        NXT,NXt,NYT,NYt = train_test_split(X,y,test_size=0.3,random_state=j)\n",
    "        i.fit(NXT,NYT)\n",
    "        test_score = i.score(NXt,NYt)\n",
    "        train_score = i.score(NXT,NYT)\n",
    "        if test_score>temp:\n",
    "            temp = test_score\n",
    "            print(j,train_score,temp)"
   ]
  },
  {
   "cell_type": "markdown",
   "metadata": {
    "id": "cF7Z3K0qSXAk"
   },
   "source": [
    "We can see the best sample for each model, and we can also see which model is a good fit and which model is overfitting/underfitting model.\n",
    "\n",
    "- AdaBoost is good model, but we will have to check for the metrics\n",
    "- Gradient Boosting is the best model comparitively, again we will check for the metrics\n",
    "- DecisionTree and the Extra Tree regressor models are not working better for this data set ,as the model is overfitting\n",
    "- Bagging and random forest regressor models are again overfitting model."
   ]
  },
  {
   "cell_type": "markdown",
   "metadata": {
    "id": "Gz1l5FqISXAk"
   },
   "source": [
    "### Decision Tree Regressor"
   ]
  },
  {
   "cell_type": "code",
   "execution_count": null,
   "metadata": {
    "id": "3z_tiu0NSXAl"
   },
   "outputs": [],
   "source": [
    "X_train,X_test,y_train,y_test = train_test_split(X,y,test_size=0.3,random_state=159)"
   ]
  },
  {
   "cell_type": "code",
   "execution_count": null,
   "metadata": {
    "id": "hlCvrqseSXAl",
    "outputId": "c38c8699-b879-46f5-8904-bdb5b74b383d"
   },
   "outputs": [
    {
     "data": {
      "text/plain": [
       "DecisionTreeRegressor(criterion='mse', max_depth=None, max_features=None,\n",
       "                      max_leaf_nodes=None, min_impurity_decrease=0.0,\n",
       "                      min_impurity_split=None, min_samples_leaf=1,\n",
       "                      min_samples_split=2, min_weight_fraction_leaf=0.0,\n",
       "                      presort=False, random_state=None, splitter='best')"
      ]
     },
     "execution_count": 123,
     "metadata": {},
     "output_type": "execute_result"
    }
   ],
   "source": [
    "dt.fit(X_train,y_train)"
   ]
  },
  {
   "cell_type": "code",
   "execution_count": null,
   "metadata": {
    "id": "C0JdJEfdSXAl"
   },
   "outputs": [],
   "source": [
    "y_pred_dt = dt.predict(X_test)"
   ]
  },
  {
   "cell_type": "code",
   "execution_count": null,
   "metadata": {
    "id": "ocvJGjdrSXAl",
    "outputId": "f0091529-d66c-40bd-f740-0fe9ad8bccb2"
   },
   "outputs": [
    {
     "name": "stdout",
     "output_type": "stream",
     "text": [
      "0.5377304802002834\n",
      "1601.0172091415543\n",
      "12.637718106173477\n",
      "22802758.22595521\n"
     ]
    }
   ],
   "source": [
    "for i in metrics:\n",
    "    print(i(y_test,y_pred_dt))\n",
    "    if i == r2_score:\n",
    "        r2.append(i(y_test,y_pred_dt))\n",
    "    elif i == mean_absolute_error:\n",
    "        mae.append(i(y_test,y_pred_dt))\n",
    "    elif i == mean_absolute_percentage_error:\n",
    "        mape.append(i(y_test,y_pred_dt))\n",
    "    else:\n",
    "        mse.append(i(y_test,y_pred_dt))"
   ]
  },
  {
   "cell_type": "code",
   "execution_count": null,
   "metadata": {
    "id": "_hcCYHcHSXAl"
   },
   "outputs": [],
   "source": [
    "train.append(dt.score(X_train,y_train))\n",
    "test.append(dt.score(X_test,y_test))"
   ]
  },
  {
   "cell_type": "markdown",
   "metadata": {
    "id": "mEFh2ITJSXAl"
   },
   "source": [
    "### Extra Tree Regressor"
   ]
  },
  {
   "cell_type": "code",
   "execution_count": null,
   "metadata": {
    "id": "-ZQlbuo-SXAl"
   },
   "outputs": [],
   "source": [
    "X_train,X_test,y_train,y_test = train_test_split(X,y,test_size=0.3,random_state=69)"
   ]
  },
  {
   "cell_type": "code",
   "execution_count": null,
   "metadata": {
    "id": "QY0FfTSrSXAl",
    "outputId": "40c1ef9e-300b-4e8a-f3cb-d2ddd9162e7a"
   },
   "outputs": [
    {
     "data": {
      "text/plain": [
       "ExtraTreeRegressor(criterion='mse', max_depth=None, max_features='auto',\n",
       "                   max_leaf_nodes=None, min_impurity_decrease=0.0,\n",
       "                   min_impurity_split=None, min_samples_leaf=1,\n",
       "                   min_samples_split=2, min_weight_fraction_leaf=0.0,\n",
       "                   random_state=None, splitter='random')"
      ]
     },
     "execution_count": 128,
     "metadata": {},
     "output_type": "execute_result"
    }
   ],
   "source": [
    "et.fit(X_train,y_train)"
   ]
  },
  {
   "cell_type": "code",
   "execution_count": null,
   "metadata": {
    "id": "aq2AYEqgSXAl"
   },
   "outputs": [],
   "source": [
    "y_pred_et = et.predict(X_test)"
   ]
  },
  {
   "cell_type": "code",
   "execution_count": null,
   "metadata": {
    "id": "NuMIXLbTSXAl",
    "outputId": "6953816c-a6ec-4e66-a897-2a117f950d1e"
   },
   "outputs": [
    {
     "name": "stdout",
     "output_type": "stream",
     "text": [
      "0.38015966046556027\n",
      "1837.7794637697923\n",
      "13.432310916540496\n",
      "29653806.277210347\n"
     ]
    }
   ],
   "source": [
    "for i in metrics:\n",
    "    print(i(y_test,y_pred_et))\n",
    "    if i == r2_score:\n",
    "        r2.append(i(y_test,y_pred_et))\n",
    "    elif i == mean_absolute_error:\n",
    "        mae.append(i(y_test,y_pred_et))\n",
    "    elif i == mean_absolute_percentage_error:\n",
    "        mape.append(i(y_test,y_pred_et))\n",
    "    else:\n",
    "        mse.append(i(y_test,y_pred_et))"
   ]
  },
  {
   "cell_type": "code",
   "execution_count": null,
   "metadata": {
    "id": "4XvG3ggNSXAl"
   },
   "outputs": [],
   "source": [
    "train.append(et.score(X_train,y_train))\n",
    "test.append(et.score(X_test,y_test))"
   ]
  },
  {
   "cell_type": "code",
   "execution_count": null,
   "metadata": {
    "id": "JnmrvY70SXAl",
    "outputId": "0095eceb-fd16-4a19-c9bd-da1970de2ad8"
   },
   "outputs": [
    {
     "data": {
      "text/html": [
       "<div>\n",
       "<style scoped>\n",
       "    .dataframe tbody tr th:only-of-type {\n",
       "        vertical-align: middle;\n",
       "    }\n",
       "\n",
       "    .dataframe tbody tr th {\n",
       "        vertical-align: top;\n",
       "    }\n",
       "\n",
       "    .dataframe thead th {\n",
       "        text-align: right;\n",
       "    }\n",
       "</style>\n",
       "<table border=\"1\" class=\"dataframe\">\n",
       "  <thead>\n",
       "    <tr style=\"text-align: right;\">\n",
       "      <th></th>\n",
       "      <th>Model</th>\n",
       "      <th>R2_Score</th>\n",
       "      <th>MAE</th>\n",
       "      <th>MAPE</th>\n",
       "      <th>MSE</th>\n",
       "    </tr>\n",
       "  </thead>\n",
       "  <tbody>\n",
       "    <tr>\n",
       "      <th>0</th>\n",
       "      <td>Linear Regression</td>\n",
       "      <td>0.622972</td>\n",
       "      <td>2097.807349</td>\n",
       "      <td>24.178603</td>\n",
       "      <td>1.822866e+07</td>\n",
       "    </tr>\n",
       "    <tr>\n",
       "      <th>1</th>\n",
       "      <td>Decision Tree</td>\n",
       "      <td>0.537730</td>\n",
       "      <td>1601.017209</td>\n",
       "      <td>12.637718</td>\n",
       "      <td>2.280276e+07</td>\n",
       "    </tr>\n",
       "    <tr>\n",
       "      <th>2</th>\n",
       "      <td>Extra Tree</td>\n",
       "      <td>0.380160</td>\n",
       "      <td>1837.779464</td>\n",
       "      <td>13.432311</td>\n",
       "      <td>2.965381e+07</td>\n",
       "    </tr>\n",
       "  </tbody>\n",
       "</table>\n",
       "</div>"
      ],
      "text/plain": [
       "               Model  R2_Score          MAE       MAPE           MSE\n",
       "0  Linear Regression  0.622972  2097.807349  24.178603  1.822866e+07\n",
       "1      Decision Tree  0.537730  1601.017209  12.637718  2.280276e+07\n",
       "2         Extra Tree  0.380160  1837.779464  13.432311  2.965381e+07"
      ]
     },
     "execution_count": 132,
     "metadata": {},
     "output_type": "execute_result"
    }
   ],
   "source": [
    "pd.DataFrame({'Model':['Linear Regression','Decision Tree','Extra Tree'],'R2_Score':r2,'MAE':mae,'MAPE':mape,'MSE':mse})"
   ]
  },
  {
   "cell_type": "markdown",
   "metadata": {
    "id": "NJYWSzPFSXAl"
   },
   "source": [
    "We can clearly see that the Linear Regression model is having the best r2_Score, and decision tree and extra tree regressor have no better accuracy that so we will have to build our model using ensemlle technique's, boosting and bagging."
   ]
  },
  {
   "cell_type": "markdown",
   "metadata": {
    "id": "4Cx_lGrtSXAl"
   },
   "source": [
    "### ENSEMBLE METHODS"
   ]
  },
  {
   "cell_type": "code",
   "execution_count": null,
   "metadata": {
    "id": "GHJhYe0bSXAl"
   },
   "outputs": [],
   "source": [
    "from sklearn.ensemble import AdaBoostRegressor\n",
    "from sklearn.ensemble import BaggingRegressor\n",
    "from sklearn.ensemble import ExtraTreesRegressor\n",
    "from sklearn.ensemble import GradientBoostingRegressor\n",
    "from sklearn.ensemble import RandomForestRegressor"
   ]
  },
  {
   "cell_type": "markdown",
   "metadata": {
    "id": "ImBuilE8SXAl"
   },
   "source": [
    "### AdaBoost"
   ]
  },
  {
   "cell_type": "code",
   "execution_count": null,
   "metadata": {
    "id": "nCuTrWweSXAl"
   },
   "outputs": [],
   "source": [
    "X_train,X_test,y_train,y_test = train_test_split(X,y,test_size=0.3,random_state=83)"
   ]
  },
  {
   "cell_type": "code",
   "execution_count": null,
   "metadata": {
    "id": "io0I001NSXAl",
    "outputId": "d1404367-8b54-4cd9-821d-fae747c00cb1"
   },
   "outputs": [
    {
     "data": {
      "text/plain": [
       "AdaBoostRegressor(base_estimator=None, learning_rate=1.0, loss='linear',\n",
       "                  n_estimators=50, random_state=None)"
      ]
     },
     "execution_count": 135,
     "metadata": {},
     "output_type": "execute_result"
    }
   ],
   "source": [
    "abr.fit(X_train,y_train)"
   ]
  },
  {
   "cell_type": "code",
   "execution_count": null,
   "metadata": {
    "id": "0-ol4k1nSXAm"
   },
   "outputs": [],
   "source": [
    "y_pred_abr = abr.predict(X_test)"
   ]
  },
  {
   "cell_type": "code",
   "execution_count": null,
   "metadata": {
    "id": "5Dl3mS12SXAm",
    "outputId": "b9019199-d679-4001-e3cd-f6f932a7653a"
   },
   "outputs": [
    {
     "name": "stdout",
     "output_type": "stream",
     "text": [
      "0.6366252854909099\n",
      "2707.8625824916985\n",
      "30.71334976732772\n",
      "19324962.495534886\n"
     ]
    }
   ],
   "source": [
    "for i in metrics:\n",
    "    print(i(y_test,y_pred_abr))\n",
    "    if i == r2_score:\n",
    "        r2.append(i(y_test,y_pred_abr))\n",
    "    elif i == mean_absolute_error:\n",
    "        mae.append(i(y_test,y_pred_abr))\n",
    "    elif i == mean_absolute_percentage_error:\n",
    "        mape.append(i(y_test,y_pred_abr))\n",
    "    else:\n",
    "        mse.append(i(y_test,y_pred_abr))"
   ]
  },
  {
   "cell_type": "code",
   "execution_count": null,
   "metadata": {
    "id": "c7ATDIAoSXAm"
   },
   "outputs": [],
   "source": [
    "train.append(abr.score(X_train,y_train))\n",
    "test.append(abr.score(X_test,y_test))"
   ]
  },
  {
   "cell_type": "markdown",
   "metadata": {
    "id": "gOOEr0wkSXAm"
   },
   "source": [
    "### Bagging"
   ]
  },
  {
   "cell_type": "code",
   "execution_count": null,
   "metadata": {
    "id": "tOIC7ybnSXAm",
    "outputId": "ecfe7162-e1a6-4512-ad93-5e18b7148cdb"
   },
   "outputs": [
    {
     "name": "stdout",
     "output_type": "stream",
     "text": [
      "0.7043308080209824\n",
      "1526.5196519165634\n",
      "11.589221645617465\n",
      "15048929.062833099\n"
     ]
    }
   ],
   "source": [
    "X_train,X_test,y_train,y_test = train_test_split(X,y,test_size=0.3,random_state=292)\n",
    "br.fit(X_train,y_train)\n",
    "y_pred_br = br.predict(X_test)\n",
    "for i in metrics:\n",
    "    print(i(y_test,y_pred_br))\n",
    "    if i == r2_score:\n",
    "        r2.append(i(y_test,y_pred_br))\n",
    "    elif i == mean_absolute_error:\n",
    "        mae.append(i(y_test,y_pred_br))\n",
    "    elif i == mean_absolute_percentage_error:\n",
    "        mape.append(i(y_test,y_pred_br))\n",
    "    else:\n",
    "        mse.append(i(y_test,y_pred_br))"
   ]
  },
  {
   "cell_type": "code",
   "execution_count": null,
   "metadata": {
    "id": "fTsQq9QJSXAm"
   },
   "outputs": [],
   "source": [
    "train.append(br.score(X_train,y_train))\n",
    "test.append(br.score(X_test,y_test))"
   ]
  },
  {
   "cell_type": "markdown",
   "metadata": {
    "id": "39wattlISXAm"
   },
   "source": [
    "### Extra Tree"
   ]
  },
  {
   "cell_type": "code",
   "execution_count": null,
   "metadata": {
    "id": "Nw2-CgXtSXAm",
    "outputId": "a69d194c-3d7e-40a1-f341-90a7d844e385"
   },
   "outputs": [
    {
     "name": "stdout",
     "output_type": "stream",
     "text": [
      "0.6576775761587174\n",
      "1542.4141941829623\n",
      "11.772073403489905\n",
      "16377060.661393862\n"
     ]
    }
   ],
   "source": [
    "X_train,X_test,y_train,y_test = train_test_split(X,y,test_size=0.3,random_state=69)\n",
    "etr.fit(X_train,y_train)\n",
    "y_pred_etr = etr.predict(X_test)\n",
    "for i in metrics:\n",
    "    print(i(y_test,y_pred_etr))\n",
    "    if i == r2_score:\n",
    "        r2.append(i(y_test,y_pred_etr))\n",
    "    elif i == mean_absolute_error:\n",
    "        mae.append(i(y_test,y_pred_etr))\n",
    "    elif i == mean_absolute_percentage_error:\n",
    "        mape.append(i(y_test,y_pred_etr))\n",
    "    else:\n",
    "        mse.append(i(y_test,y_pred_etr))"
   ]
  },
  {
   "cell_type": "code",
   "execution_count": null,
   "metadata": {
    "id": "J4XaWME5SXAm"
   },
   "outputs": [],
   "source": [
    "train.append(etr.score(X_train,y_train))\n",
    "test.append(etr.score(X_test,y_test))"
   ]
  },
  {
   "cell_type": "markdown",
   "metadata": {
    "id": "5sZArFQYSXAm"
   },
   "source": [
    "### Gradient Boosting"
   ]
  },
  {
   "cell_type": "code",
   "execution_count": null,
   "metadata": {
    "id": "am1iZ64gSXAm",
    "outputId": "38cf820e-e576-452c-9c7d-818f8915ab07"
   },
   "outputs": [
    {
     "name": "stdout",
     "output_type": "stream",
     "text": [
      "0.7020126935111071\n",
      "1722.4806957612916\n",
      "13.862851144497546\n",
      "14830985.733637229\n"
     ]
    }
   ],
   "source": [
    "X_train,X_test,y_train,y_test = train_test_split(X,y,test_size=0.3,random_state=181)\n",
    "gbr.fit(X_train,y_train)\n",
    "y_pred_gbr = gbr.predict(X_test)\n",
    "for i in metrics:\n",
    "    print(i(y_test,y_pred_gbr))\n",
    "    if i == r2_score:\n",
    "        r2.append(i(y_test,y_pred_gbr))\n",
    "    elif i == mean_absolute_error:\n",
    "        mae.append(i(y_test,y_pred_gbr))\n",
    "    elif i == mean_absolute_percentage_error:\n",
    "        mape.append(i(y_test,y_pred_gbr))\n",
    "    else:\n",
    "        mse.append(i(y_test,y_pred_gbr))"
   ]
  },
  {
   "cell_type": "code",
   "execution_count": null,
   "metadata": {
    "id": "QjkRBVm1SXAm"
   },
   "outputs": [],
   "source": [
    "train.append(gbr.score(X_train,y_train))\n",
    "test.append(gbr.score(X_test,y_test))"
   ]
  },
  {
   "cell_type": "markdown",
   "metadata": {
    "id": "FU5ilBOqSXAn"
   },
   "source": [
    "### Random Forest"
   ]
  },
  {
   "cell_type": "code",
   "execution_count": null,
   "metadata": {
    "id": "S_5H9gwLSXAn",
    "outputId": "cf1a22ae-fe94-4d35-a4a4-836661dbf569"
   },
   "outputs": [
    {
     "name": "stdout",
     "output_type": "stream",
     "text": [
      "0.701486747370129\n",
      "1476.7229092872308\n",
      "11.53652290141357\n",
      "14260686.622169591\n"
     ]
    }
   ],
   "source": [
    "X_train,X_test,y_train,y_test = train_test_split(X,y,test_size=0.3,random_state=35)\n",
    "rfr.fit(X_train,y_train)\n",
    "y_pred_rfr = rfr.predict(X_test)\n",
    "for i in metrics:\n",
    "    print(i(y_test,y_pred_rfr))\n",
    "    if i == r2_score:\n",
    "        r2.append(i(y_test,y_pred_rfr))\n",
    "    elif i == mean_absolute_error:\n",
    "        mae.append(i(y_test,y_pred_rfr))\n",
    "    elif i == mean_absolute_percentage_error:\n",
    "        mape.append(i(y_test,y_pred_rfr))\n",
    "    else:\n",
    "        mse.append(i(y_test,y_pred_rfr))"
   ]
  },
  {
   "cell_type": "code",
   "execution_count": null,
   "metadata": {
    "id": "ZPwq6NedSXAn"
   },
   "outputs": [],
   "source": [
    "train.append(rfr.score(X_train,y_train))\n",
    "test.append(rfr.score(X_test,y_test))"
   ]
  },
  {
   "cell_type": "markdown",
   "metadata": {
    "id": "fA4YonRvSXAn"
   },
   "source": [
    "Of all the models we decided to choose gradient boosting as the next model, and furthur tweak the hyper parameter's of the model and also put this boosting model into bagging regressor and check for the model accuracy."
   ]
  },
  {
   "cell_type": "markdown",
   "metadata": {
    "id": "ZRtPVWf-SXAn"
   },
   "source": [
    "### NEXT MODEL"
   ]
  },
  {
   "cell_type": "code",
   "execution_count": null,
   "metadata": {
    "id": "zUzC50nRSXAn"
   },
   "outputs": [],
   "source": [
    "hyper_params_gbr = {'loss':['ls','lad','huber'],'learning_rate':[0.1,0.01,1],'n_estimators':[100,150]}"
   ]
  },
  {
   "cell_type": "code",
   "execution_count": null,
   "metadata": {
    "id": "3exfZLJ_SXAn"
   },
   "outputs": [],
   "source": [
    "gbr2 = GradientBoostingRegressor()"
   ]
  },
  {
   "cell_type": "code",
   "execution_count": null,
   "metadata": {
    "id": "RHPjbuSySXAn"
   },
   "outputs": [],
   "source": [
    "model = GridSearchCV(gbr2,param_grid=hyper_params_gbr)"
   ]
  },
  {
   "cell_type": "code",
   "execution_count": null,
   "metadata": {
    "id": "bQvjQEcLSXAn"
   },
   "outputs": [],
   "source": [
    "X_train,X_test,y_train,y_test = train_test_split(X,y,test_size=0.3,random_state=181)"
   ]
  },
  {
   "cell_type": "code",
   "execution_count": null,
   "metadata": {
    "id": "GXHfH6dxSXAn",
    "outputId": "908e2090-151f-44f1-d15a-06b9ef5cc70f"
   },
   "outputs": [
    {
     "data": {
      "text/plain": [
       "GridSearchCV(cv='warn', error_score='raise-deprecating',\n",
       "             estimator=GradientBoostingRegressor(alpha=0.9,\n",
       "                                                 criterion='friedman_mse',\n",
       "                                                 init=None, learning_rate=0.1,\n",
       "                                                 loss='ls', max_depth=3,\n",
       "                                                 max_features=None,\n",
       "                                                 max_leaf_nodes=None,\n",
       "                                                 min_impurity_decrease=0.0,\n",
       "                                                 min_impurity_split=None,\n",
       "                                                 min_samples_leaf=1,\n",
       "                                                 min_samples_split=2,\n",
       "                                                 min_weight_fraction_leaf=0.0,\n",
       "                                                 n_estimators=100,\n",
       "                                                 n_iter_no_change=None,\n",
       "                                                 presort='auto',\n",
       "                                                 random_state=None,\n",
       "                                                 subsample=1.0, tol=0.0001,\n",
       "                                                 validation_fraction=0.1,\n",
       "                                                 verbose=0, warm_start=False),\n",
       "             iid='warn', n_jobs=None,\n",
       "             param_grid={'learning_rate': [0.1, 0.01, 1],\n",
       "                         'loss': ['ls', 'lad', 'huber'],\n",
       "                         'n_estimators': [100, 150]},\n",
       "             pre_dispatch='2*n_jobs', refit=True, return_train_score=False,\n",
       "             scoring=None, verbose=0)"
      ]
     },
     "execution_count": 151,
     "metadata": {},
     "output_type": "execute_result"
    }
   ],
   "source": [
    "model.fit(X_train,y_train)"
   ]
  },
  {
   "cell_type": "code",
   "execution_count": null,
   "metadata": {
    "id": "w7EpLa-BSXAn",
    "outputId": "dd969690-39ff-4e06-bf51-2418b5d5c781"
   },
   "outputs": [
    {
     "data": {
      "text/plain": [
       "0.7018234601281013"
      ]
     },
     "execution_count": 152,
     "metadata": {},
     "output_type": "execute_result"
    }
   ],
   "source": [
    "model.score(X_test,y_test)"
   ]
  },
  {
   "cell_type": "code",
   "execution_count": null,
   "metadata": {
    "id": "hZKTNH2uSXAn",
    "outputId": "27bde038-4ea2-4053-b1d6-34df9a8eeac1"
   },
   "outputs": [
    {
     "data": {
      "text/plain": [
       "0.7371078414289501"
      ]
     },
     "execution_count": 153,
     "metadata": {},
     "output_type": "execute_result"
    }
   ],
   "source": [
    "model.score(X_train,y_train)"
   ]
  },
  {
   "cell_type": "code",
   "execution_count": null,
   "metadata": {
    "id": "CrBQVWAASXAn",
    "outputId": "822dd27e-3fc7-44d5-9acb-c2f80d5df3ad"
   },
   "outputs": [
    {
     "data": {
      "text/plain": [
       "{'learning_rate': 0.1, 'loss': 'ls', 'n_estimators': 100}"
      ]
     },
     "execution_count": 154,
     "metadata": {},
     "output_type": "execute_result"
    }
   ],
   "source": [
    "model.best_params_"
   ]
  },
  {
   "cell_type": "markdown",
   "metadata": {
    "id": "pO7AiVqySXAn"
   },
   "source": [
    "These are the default parameters of the model so no hyper parameter tuning for this model is required, let us try and put this model into the bagging regressor."
   ]
  },
  {
   "cell_type": "markdown",
   "metadata": {
    "id": "fS2lGfRiSXAo"
   },
   "source": [
    "### Final Model(Boosting+Bagging)"
   ]
  },
  {
   "cell_type": "code",
   "execution_count": null,
   "metadata": {
    "id": "a2uIbG67SXAo"
   },
   "outputs": [],
   "source": [
    "gbr2 = GradientBoostingRegressor()"
   ]
  },
  {
   "cell_type": "code",
   "execution_count": null,
   "metadata": {
    "id": "LCxjUofSSXAo"
   },
   "outputs": [],
   "source": [
    "br2 = BaggingRegressor(gbr2)"
   ]
  },
  {
   "cell_type": "markdown",
   "metadata": {
    "id": "jYh5RheGSXAo"
   },
   "source": [
    "#### Finding the best sample"
   ]
  },
  {
   "cell_type": "code",
   "execution_count": null,
   "metadata": {
    "id": "XIzrwGukSXAo",
    "outputId": "bab2b1b9-cee7-4e32-a34e-fd4b0f0dadcd"
   },
   "outputs": [
    {
     "name": "stdout",
     "output_type": "stream",
     "text": [
      "1 0.747821444511626 0.6652024672873879\n",
      "2 0.7395332465602682 0.6956652070728618\n",
      "4 0.7359593606875603 0.6973729378081204\n",
      "35 0.7318056810114879 0.7161500323150083\n"
     ]
    }
   ],
   "source": [
    "temp = 0\n",
    "for j in range(1,300,1):\n",
    "    NXT,NXt,NYT,NYt = train_test_split(X,y,test_size=0.3,random_state=j)\n",
    "    br2.fit(NXT,NYT)\n",
    "    test_score = br2.score(NXt,NYt)\n",
    "    train_score = br2.score(NXT,NYT)\n",
    "    if test_score>temp:\n",
    "        temp = test_score\n",
    "        print(j,train_score,temp)"
   ]
  },
  {
   "cell_type": "code",
   "execution_count": null,
   "metadata": {
    "id": "5rrYSyamSXAo",
    "outputId": "7ae5fe5a-89ee-4324-d234-d6633649b05b"
   },
   "outputs": [
    {
     "name": "stdout",
     "output_type": "stream",
     "text": [
      "0.7089594954098326\n",
      "1631.039980305271\n",
      "13.61055726458647\n",
      "12547549.43384107\n"
     ]
    }
   ],
   "source": [
    "X_train,X_test,y_train,y_test = train_test_split(X,y,test_size=0.3,random_state=87)\n",
    "br2.fit(X_train,y_train)\n",
    "y_pred_br2 = br2.predict(X_test)\n",
    "for i in metrics:\n",
    "    print(i(y_test,y_pred_br2))\n",
    "    if i == r2_score:\n",
    "        r2.append(i(y_test,y_pred_br2))\n",
    "    elif i == mean_absolute_error:\n",
    "        mae.append(i(y_test,y_pred_br2))\n",
    "    elif i == mean_absolute_percentage_error:\n",
    "        mape.append(i(y_test,y_pred_br2))\n",
    "    else:\n",
    "        mse.append(i(y_test,y_pred_br2))"
   ]
  },
  {
   "cell_type": "code",
   "execution_count": null,
   "metadata": {
    "id": "wVkdgWlrSXAo"
   },
   "outputs": [],
   "source": [
    "train.append(br2.score(X_train,y_train))\n",
    "test.append(br2.score(X_test,y_test))"
   ]
  },
  {
   "cell_type": "markdown",
   "metadata": {
    "id": "ES_jIhSpSXAo"
   },
   "source": [
    "### Using KFold Validation"
   ]
  },
  {
   "cell_type": "code",
   "execution_count": null,
   "metadata": {
    "id": "glFy-a-qSXAo"
   },
   "outputs": [],
   "source": [
    "test_scores = []\n",
    "train_scores = []\n",
    "cv = KFold(n_splits=10,random_state=42, shuffle=False)\n",
    "for train_index,test_index in cv.split(X):\n",
    "    X_train, X_test, y_train, y_test = X.iloc[train_index], X.iloc[test_index], y.iloc[train_index], y.iloc[test_index]\n",
    "    br2.fit(X_train,y_train)\n",
    "    test_scores.append(br.score(X_test, y_test))\n",
    "    train_scores.append(br.score(X_train, y_train))"
   ]
  },
  {
   "cell_type": "code",
   "execution_count": null,
   "metadata": {
    "id": "_NFBqcEFSXAo",
    "outputId": "d8171d06-5178-4714-8841-5dc740357d8f"
   },
   "outputs": [
    {
     "data": {
      "text/plain": [
       "0.8634741672190357"
      ]
     },
     "execution_count": 161,
     "metadata": {},
     "output_type": "execute_result"
    }
   ],
   "source": [
    "np.mean(train_scores)"
   ]
  },
  {
   "cell_type": "code",
   "execution_count": null,
   "metadata": {
    "id": "Hwiw6uSPSXAo",
    "outputId": "b80c1623-5e87-4a8a-fada-61a4cff10b8b"
   },
   "outputs": [
    {
     "data": {
      "text/plain": [
       "0.8618666698469953"
      ]
     },
     "execution_count": 162,
     "metadata": {},
     "output_type": "execute_result"
    }
   ],
   "source": [
    "np.mean(test_scores)"
   ]
  },
  {
   "cell_type": "markdown",
   "metadata": {
    "id": "sg1ZrFiRSXAo"
   },
   "source": [
    "We can see that after using KFold validation we got our average training accuracy to be 86.45 and average testing accuracy to be 86.30, OUR final model is bagging regressor with base estimator gradient boosting regressor."
   ]
  },
  {
   "cell_type": "code",
   "execution_count": null,
   "metadata": {
    "id": "FeFSohftSXAo"
   },
   "outputs": [],
   "source": [
    "ALL_SCORES = pd.DataFrame({'Model':['Linear Regression','Decision Tree','Extra Tree','AdaBoost','Bagging',\n",
    "                                    'Extra Trees','GradientBoosting','Random Forest','Final_Model'],\n",
    "                           'Training_Score':train,'Testing_Score':test,'R2_Score':r2,'MAE':mae,'MAPE':mape,'MSE':mse})"
   ]
  },
  {
   "cell_type": "code",
   "execution_count": null,
   "metadata": {
    "id": "wReQ9ANwSXAo",
    "outputId": "83e21498-97cf-4e68-8306-a4bd3db0b90e"
   },
   "outputs": [
    {
     "data": {
      "text/html": [
       "<div>\n",
       "<style scoped>\n",
       "    .dataframe tbody tr th:only-of-type {\n",
       "        vertical-align: middle;\n",
       "    }\n",
       "\n",
       "    .dataframe tbody tr th {\n",
       "        vertical-align: top;\n",
       "    }\n",
       "\n",
       "    .dataframe thead th {\n",
       "        text-align: right;\n",
       "    }\n",
       "</style>\n",
       "<table border=\"1\" class=\"dataframe\">\n",
       "  <thead>\n",
       "    <tr style=\"text-align: right;\">\n",
       "      <th></th>\n",
       "      <th>Model</th>\n",
       "      <th>Training_Score</th>\n",
       "      <th>Testing_Score</th>\n",
       "      <th>R2_Score</th>\n",
       "      <th>MAE</th>\n",
       "      <th>MAPE</th>\n",
       "      <th>MSE</th>\n",
       "    </tr>\n",
       "  </thead>\n",
       "  <tbody>\n",
       "    <tr>\n",
       "      <th>0</th>\n",
       "      <td>Linear Regression</td>\n",
       "      <td>0.638623</td>\n",
       "      <td>0.622972</td>\n",
       "      <td>0.622972</td>\n",
       "      <td>2097.807349</td>\n",
       "      <td>24.178603</td>\n",
       "      <td>1.822866e+07</td>\n",
       "    </tr>\n",
       "    <tr>\n",
       "      <th>1</th>\n",
       "      <td>Decision Tree</td>\n",
       "      <td>1.000000</td>\n",
       "      <td>0.537730</td>\n",
       "      <td>0.537730</td>\n",
       "      <td>1601.017209</td>\n",
       "      <td>12.637718</td>\n",
       "      <td>2.280276e+07</td>\n",
       "    </tr>\n",
       "    <tr>\n",
       "      <th>2</th>\n",
       "      <td>Extra Tree</td>\n",
       "      <td>1.000000</td>\n",
       "      <td>0.380160</td>\n",
       "      <td>0.380160</td>\n",
       "      <td>1837.779464</td>\n",
       "      <td>13.432311</td>\n",
       "      <td>2.965381e+07</td>\n",
       "    </tr>\n",
       "    <tr>\n",
       "      <th>3</th>\n",
       "      <td>AdaBoost</td>\n",
       "      <td>0.596991</td>\n",
       "      <td>0.636625</td>\n",
       "      <td>0.636625</td>\n",
       "      <td>2707.862582</td>\n",
       "      <td>30.713350</td>\n",
       "      <td>1.932496e+07</td>\n",
       "    </tr>\n",
       "    <tr>\n",
       "      <th>4</th>\n",
       "      <td>Bagging</td>\n",
       "      <td>0.939613</td>\n",
       "      <td>0.704331</td>\n",
       "      <td>0.704331</td>\n",
       "      <td>1526.519652</td>\n",
       "      <td>11.589222</td>\n",
       "      <td>1.504893e+07</td>\n",
       "    </tr>\n",
       "    <tr>\n",
       "      <th>5</th>\n",
       "      <td>Extra Trees</td>\n",
       "      <td>1.000000</td>\n",
       "      <td>0.657678</td>\n",
       "      <td>0.657678</td>\n",
       "      <td>1542.414194</td>\n",
       "      <td>11.772073</td>\n",
       "      <td>1.637706e+07</td>\n",
       "    </tr>\n",
       "    <tr>\n",
       "      <th>6</th>\n",
       "      <td>GradientBoosting</td>\n",
       "      <td>0.737108</td>\n",
       "      <td>0.702013</td>\n",
       "      <td>0.702013</td>\n",
       "      <td>1722.480696</td>\n",
       "      <td>13.862851</td>\n",
       "      <td>1.483099e+07</td>\n",
       "    </tr>\n",
       "    <tr>\n",
       "      <th>7</th>\n",
       "      <td>Random Forest</td>\n",
       "      <td>0.939113</td>\n",
       "      <td>0.701487</td>\n",
       "      <td>0.701487</td>\n",
       "      <td>1476.722909</td>\n",
       "      <td>11.536523</td>\n",
       "      <td>1.426069e+07</td>\n",
       "    </tr>\n",
       "    <tr>\n",
       "      <th>8</th>\n",
       "      <td>Final_Model</td>\n",
       "      <td>0.733239</td>\n",
       "      <td>0.708959</td>\n",
       "      <td>0.708959</td>\n",
       "      <td>1631.039980</td>\n",
       "      <td>13.610557</td>\n",
       "      <td>1.254755e+07</td>\n",
       "    </tr>\n",
       "  </tbody>\n",
       "</table>\n",
       "</div>"
      ],
      "text/plain": [
       "               Model  Training_Score  Testing_Score  R2_Score          MAE  \\\n",
       "0  Linear Regression        0.638623       0.622972  0.622972  2097.807349   \n",
       "1      Decision Tree        1.000000       0.537730  0.537730  1601.017209   \n",
       "2         Extra Tree        1.000000       0.380160  0.380160  1837.779464   \n",
       "3           AdaBoost        0.596991       0.636625  0.636625  2707.862582   \n",
       "4            Bagging        0.939613       0.704331  0.704331  1526.519652   \n",
       "5        Extra Trees        1.000000       0.657678  0.657678  1542.414194   \n",
       "6   GradientBoosting        0.737108       0.702013  0.702013  1722.480696   \n",
       "7      Random Forest        0.939113       0.701487  0.701487  1476.722909   \n",
       "8        Final_Model        0.733239       0.708959  0.708959  1631.039980   \n",
       "\n",
       "        MAPE           MSE  \n",
       "0  24.178603  1.822866e+07  \n",
       "1  12.637718  2.280276e+07  \n",
       "2  13.432311  2.965381e+07  \n",
       "3  30.713350  1.932496e+07  \n",
       "4  11.589222  1.504893e+07  \n",
       "5  11.772073  1.637706e+07  \n",
       "6  13.862851  1.483099e+07  \n",
       "7  11.536523  1.426069e+07  \n",
       "8  13.610557  1.254755e+07  "
      ]
     },
     "execution_count": 164,
     "metadata": {},
     "output_type": "execute_result"
    }
   ],
   "source": [
    "ALL_SCORES "
   ]
  },
  {
   "cell_type": "code",
   "execution_count": null,
   "metadata": {
    "id": "u9i7H8zZSXAo"
   },
   "outputs": [],
   "source": []
  }
 ],
 "metadata": {
  "colab": {
   "provenance": []
  },
  "kernelspec": {
   "display_name": "Python 3 (ipykernel)",
   "language": "python",
   "name": "python3"
  },
  "language_info": {
   "codemirror_mode": {
    "name": "ipython",
    "version": 3
   },
   "file_extension": ".py",
   "mimetype": "text/x-python",
   "name": "python",
   "nbconvert_exporter": "python",
   "pygments_lexer": "ipython3",
   "version": "3.9.13"
  }
 },
 "nbformat": 4,
 "nbformat_minor": 1
}
